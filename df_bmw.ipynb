{
 "cells": [
  {
   "cell_type": "markdown",
   "metadata": {},
   "source": [
    "# Entregable Data Preparation"
   ]
  },
  {
   "cell_type": "code",
   "execution_count": 3,
   "metadata": {},
   "outputs": [],
   "source": [
    "#importamos librerías y herramientas\n",
    "import pandas as pd\n",
    "import numpy as np\n",
    "import matplotlib.pyplot as plt\n",
    "import seaborn as sns\n",
    "from sklearn.preprocessing import LabelEncoder,MinMaxScaler, OrdinalEncoder"
   ]
  },
  {
   "cell_type": "markdown",
   "metadata": {},
   "source": [
    "###Creamos el Data Frame y lo nombramos _df_bmw_"
   ]
  },
  {
   "cell_type": "code",
   "execution_count": 4,
   "metadata": {},
   "outputs": [],
   "source": [
    "df_bmw = pd.read_csv(\"./data/bmw_pricing_v3.csv\")"
   ]
  },
  {
   "cell_type": "code",
   "execution_count": 5,
   "metadata": {},
   "outputs": [
    {
     "name": "stdout",
     "output_type": "stream",
     "text": [
      "<class 'pandas.core.frame.DataFrame'>\n",
      "RangeIndex: 4843 entries, 0 to 4842\n",
      "Data columns (total 18 columns):\n",
      " #   Column                       Non-Null Count  Dtype  \n",
      "---  ------                       --------------  -----  \n",
      " 0   marca                        3873 non-null   object \n",
      " 1   modelo                       4840 non-null   object \n",
      " 2   km                           4841 non-null   float64\n",
      " 3   potencia                     4842 non-null   float64\n",
      " 4   fecha_registro               2420 non-null   object \n",
      " 5   tipo_gasolina                4838 non-null   object \n",
      " 6   color                        4398 non-null   object \n",
      " 7   tipo_coche                   3383 non-null   object \n",
      " 8   volante_regulable            4839 non-null   object \n",
      " 9   aire_acondicionado           4357 non-null   object \n",
      " 10  camara_trasera               4841 non-null   object \n",
      " 11  asientos_traseros_plegables  1452 non-null   object \n",
      " 12  elevalunas_electrico         4841 non-null   object \n",
      " 13  bluetooth                    4115 non-null   object \n",
      " 14  gps                          4843 non-null   bool   \n",
      " 15  alerta_lim_velocidad         4115 non-null   object \n",
      " 16  precio                       4837 non-null   float64\n",
      " 17  fecha_venta                  4842 non-null   object \n",
      "dtypes: bool(1), float64(3), object(14)\n",
      "memory usage: 648.1+ KB\n"
     ]
    }
   ],
   "source": [
    "# ESTRUCTURA DE DATOS\n",
    "df_bmw.info()"
   ]
  },
  {
   "cell_type": "markdown",
   "metadata": {},
   "source": [
    "###Revisamos si hay duplicados para eliminar"
   ]
  },
  {
   "cell_type": "code",
   "execution_count": 6,
   "metadata": {},
   "outputs": [
    {
     "data": {
      "text/html": [
       "<div>\n",
       "<style scoped>\n",
       "    .dataframe tbody tr th:only-of-type {\n",
       "        vertical-align: middle;\n",
       "    }\n",
       "\n",
       "    .dataframe tbody tr th {\n",
       "        vertical-align: top;\n",
       "    }\n",
       "\n",
       "    .dataframe thead th {\n",
       "        text-align: right;\n",
       "    }\n",
       "</style>\n",
       "<table border=\"1\" class=\"dataframe\">\n",
       "  <thead>\n",
       "    <tr style=\"text-align: right;\">\n",
       "      <th></th>\n",
       "      <th>marca</th>\n",
       "      <th>modelo</th>\n",
       "      <th>km</th>\n",
       "      <th>potencia</th>\n",
       "      <th>fecha_registro</th>\n",
       "      <th>tipo_gasolina</th>\n",
       "      <th>color</th>\n",
       "      <th>tipo_coche</th>\n",
       "      <th>volante_regulable</th>\n",
       "      <th>aire_acondicionado</th>\n",
       "      <th>camara_trasera</th>\n",
       "      <th>asientos_traseros_plegables</th>\n",
       "      <th>elevalunas_electrico</th>\n",
       "      <th>bluetooth</th>\n",
       "      <th>gps</th>\n",
       "      <th>alerta_lim_velocidad</th>\n",
       "      <th>precio</th>\n",
       "      <th>fecha_venta</th>\n",
       "    </tr>\n",
       "  </thead>\n",
       "  <tbody>\n",
       "  </tbody>\n",
       "</table>\n",
       "</div>"
      ],
      "text/plain": [
       "Empty DataFrame\n",
       "Columns: [marca, modelo, km, potencia, fecha_registro, tipo_gasolina, color, tipo_coche, volante_regulable, aire_acondicionado, camara_trasera, asientos_traseros_plegables, elevalunas_electrico, bluetooth, gps, alerta_lim_velocidad, precio, fecha_venta]\n",
       "Index: []"
      ]
     },
     "execution_count": 6,
     "metadata": {},
     "output_type": "execute_result"
    }
   ],
   "source": [
    "df_bmw[df_bmw.duplicated(keep=False)] #No hay duplicados\n",
    "#Para comprobar que no hay duplicados hago un conteo inicial de mis filas, utilizo drop_duplicated y vuelvo a contar filas\n",
    "# len(imdb)\n",
    "# imdb.drop_duplicated(inplace=True)\n",
    "# len(imdb)"
   ]
  },
  {
   "cell_type": "markdown",
   "metadata": {},
   "source": [
    "###Iniciamos con los  cambios, previa copia"
   ]
  },
  {
   "cell_type": "code",
   "execution_count": 7,
   "metadata": {},
   "outputs": [],
   "source": [
    "df_bmw2 = df_bmw.copy()"
   ]
  },
  {
   "cell_type": "code",
   "execution_count": 8,
   "metadata": {},
   "outputs": [
    {
     "data": {
      "text/plain": [
       "marca                           970\n",
       "modelo                            3\n",
       "km                                2\n",
       "potencia                          1\n",
       "fecha_registro                 2423\n",
       "tipo_gasolina                     5\n",
       "color                           445\n",
       "tipo_coche                     1460\n",
       "volante_regulable                 4\n",
       "aire_acondicionado              486\n",
       "camara_trasera                    2\n",
       "asientos_traseros_plegables    3391\n",
       "elevalunas_electrico              2\n",
       "bluetooth                       728\n",
       "gps                               0\n",
       "alerta_lim_velocidad            728\n",
       "precio                            6\n",
       "fecha_venta                       1\n",
       "dtype: int64"
      ]
     },
     "execution_count": 8,
     "metadata": {},
     "output_type": "execute_result"
    }
   ],
   "source": [
    "df_bmw2.isnull().sum()"
   ]
  },
  {
   "cell_type": "code",
   "execution_count": 9,
   "metadata": {},
   "outputs": [],
   "source": [
    "#Observamos nulos inferiores al 1% en las columnas, las eliminamos\n",
    "for i in df_bmw2:\n",
    "  if df_bmw2[i].isnull().sum() < 7:\n",
    "   df_bmw2.dropna(subset=[i],inplace=True)"
   ]
  },
  {
   "cell_type": "markdown",
   "metadata": {},
   "source": [
    "###Hacemos una copia para revisar variable por variable"
   ]
  },
  {
   "cell_type": "code",
   "execution_count": 10,
   "metadata": {},
   "outputs": [],
   "source": [
    "#Empezamos a revisar las variables\n",
    "df_bmw3 = df_bmw2.copy()"
   ]
  },
  {
   "cell_type": "code",
   "execution_count": 11,
   "metadata": {},
   "outputs": [
    {
     "name": "stdout",
     "output_type": "stream",
     "text": [
      "<class 'pandas.core.frame.DataFrame'>\n",
      "Index: 4817 entries, 0 to 4842\n",
      "Data columns (total 18 columns):\n",
      " #   Column                       Non-Null Count  Dtype  \n",
      "---  ------                       --------------  -----  \n",
      " 0   marca                        3852 non-null   object \n",
      " 1   modelo                       4817 non-null   object \n",
      " 2   km                           4817 non-null   float64\n",
      " 3   potencia                     4817 non-null   float64\n",
      " 4   fecha_registro               2408 non-null   object \n",
      " 5   tipo_gasolina                4817 non-null   object \n",
      " 6   color                        4375 non-null   object \n",
      " 7   tipo_coche                   3368 non-null   object \n",
      " 8   volante_regulable            4817 non-null   object \n",
      " 9   aire_acondicionado           4335 non-null   object \n",
      " 10  camara_trasera               4817 non-null   object \n",
      " 11  asientos_traseros_plegables  1444 non-null   object \n",
      " 12  elevalunas_electrico         4817 non-null   object \n",
      " 13  bluetooth                    4092 non-null   object \n",
      " 14  gps                          4817 non-null   bool   \n",
      " 15  alerta_lim_velocidad         4092 non-null   object \n",
      " 16  precio                       4817 non-null   float64\n",
      " 17  fecha_venta                  4817 non-null   object \n",
      "dtypes: bool(1), float64(3), object(14)\n",
      "memory usage: 682.1+ KB\n"
     ]
    }
   ],
   "source": [
    "df_bmw3.info()"
   ]
  },
  {
   "cell_type": "markdown",
   "metadata": {},
   "source": [
    "###Variable **Marca**\n",
    "Observamos que tiene solo dos únicos valores y como sabemos que el dataset es de BMW, los nulos lo completamos con la moda y/o la misma marca. Al tratarse de toda la columna el mismo valor, decidimos eliminarla."
   ]
  },
  {
   "cell_type": "code",
   "execution_count": 12,
   "metadata": {},
   "outputs": [
    {
     "name": "stderr",
     "output_type": "stream",
     "text": [
      "C:\\Users\\rafas\\AppData\\Local\\Temp\\ipykernel_15088\\338064117.py:4: FutureWarning: A value is trying to be set on a copy of a DataFrame or Series through chained assignment using an inplace method.\n",
      "The behavior will change in pandas 3.0. This inplace method will never work because the intermediate object on which we are setting values always behaves as a copy.\n",
      "\n",
      "For example, when doing 'df[col].method(value, inplace=True)', try using 'df.method({col: value}, inplace=True)' or df[col] = df[col].method(value) instead, to perform the operation inplace on the original object.\n",
      "\n",
      "\n",
      "  df_bmw3['marca'].fillna(df_bmw3['marca'].mode()[0], inplace=True) #Completo los nulos con la moda\n"
     ]
    }
   ],
   "source": [
    "#df_bmw3['marca'].isnull().sum()\n",
    "#df_bmw3['marca'].unique()\n",
    "#df_bmw3['marca'].value_counts(normalize=True)\n",
    "df_bmw3['marca'].fillna(df_bmw3['marca'].mode()[0], inplace=True) #Completo los nulos con la moda"
   ]
  },
  {
   "cell_type": "code",
   "execution_count": 13,
   "metadata": {},
   "outputs": [],
   "source": [
    "del(df_bmw3['marca'])"
   ]
  },
  {
   "cell_type": "markdown",
   "metadata": {},
   "source": [
    "###Variable **Color**\n",
    "Observamos su distribución con _normalize_ y lo reemplazamos los nulos con la moda"
   ]
  },
  {
   "cell_type": "code",
   "execution_count": 14,
   "metadata": {},
   "outputs": [
    {
     "name": "stderr",
     "output_type": "stream",
     "text": [
      "C:\\Users\\rafas\\AppData\\Local\\Temp\\ipykernel_15088\\881180119.py:3: FutureWarning: A value is trying to be set on a copy of a DataFrame or Series through chained assignment using an inplace method.\n",
      "The behavior will change in pandas 3.0. This inplace method will never work because the intermediate object on which we are setting values always behaves as a copy.\n",
      "\n",
      "For example, when doing 'df[col].method(value, inplace=True)', try using 'df.method({col: value}, inplace=True)' or df[col] = df[col].method(value) instead, to perform the operation inplace on the original object.\n",
      "\n",
      "\n",
      "  df_bmw3['color'].fillna(df_bmw3['color'].mode()[0], inplace=True)\n"
     ]
    }
   ],
   "source": [
    "df_bmw3[df_bmw3['color'].isnull()]\n",
    "#df_bmw3['color'].value_counts(normalize=True)\n",
    "df_bmw3['color'].fillna(df_bmw3['color'].mode()[0], inplace=True)"
   ]
  },
  {
   "cell_type": "code",
   "execution_count": 15,
   "metadata": {},
   "outputs": [],
   "source": [
    "df_bmw4 = df_bmw3.copy()"
   ]
  },
  {
   "cell_type": "markdown",
   "metadata": {},
   "source": [
    "###Variable **tipo_coche**\n",
    "Reemplazamos los nulos con _sin tipo_"
   ]
  },
  {
   "cell_type": "code",
   "execution_count": 16,
   "metadata": {},
   "outputs": [
    {
     "name": "stderr",
     "output_type": "stream",
     "text": [
      "C:\\Users\\rafas\\AppData\\Local\\Temp\\ipykernel_15088\\3349981566.py:1: FutureWarning: A value is trying to be set on a copy of a DataFrame or Series through chained assignment using an inplace method.\n",
      "The behavior will change in pandas 3.0. This inplace method will never work because the intermediate object on which we are setting values always behaves as a copy.\n",
      "\n",
      "For example, when doing 'df[col].method(value, inplace=True)', try using 'df.method({col: value}, inplace=True)' or df[col] = df[col].method(value) instead, to perform the operation inplace on the original object.\n",
      "\n",
      "\n",
      "  df_bmw4['tipo_coche'].fillna('sin tipo', inplace=True)\n"
     ]
    }
   ],
   "source": [
    "df_bmw4['tipo_coche'].fillna('sin tipo', inplace=True)"
   ]
  },
  {
   "cell_type": "markdown",
   "metadata": {},
   "source": [
    "###Variable **aire_acondicionado**"
   ]
  },
  {
   "cell_type": "code",
   "execution_count": 17,
   "metadata": {},
   "outputs": [
    {
     "data": {
      "text/plain": [
       "array([True, False, nan], dtype=object)"
      ]
     },
     "execution_count": 17,
     "metadata": {},
     "output_type": "execute_result"
    }
   ],
   "source": [
    "df_bmw4['aire_acondicionado'].unique() #Evaluamos luego"
   ]
  },
  {
   "cell_type": "markdown",
   "metadata": {},
   "source": [
    "###Variable **asientos_traseros_plegables**"
   ]
  },
  {
   "cell_type": "code",
   "execution_count": 18,
   "metadata": {},
   "outputs": [],
   "source": [
    "#Eliminamos la columna ya que tienes mas del 75% nulos\n",
    "del(df_bmw4['asientos_traseros_plegables'])"
   ]
  },
  {
   "cell_type": "markdown",
   "metadata": {},
   "source": [
    "###Variable **bluetooth**"
   ]
  },
  {
   "cell_type": "code",
   "execution_count": 19,
   "metadata": {},
   "outputs": [
    {
     "data": {
      "text/plain": [
       "array([nan, True, False], dtype=object)"
      ]
     },
     "execution_count": 19,
     "metadata": {},
     "output_type": "execute_result"
    }
   ],
   "source": [
    "df_bmw4['bluetooth'].unique() #Evaluamos luego"
   ]
  },
  {
   "cell_type": "markdown",
   "metadata": {},
   "source": [
    "###Variable **alerta_lim_velocidad**"
   ]
  },
  {
   "cell_type": "code",
   "execution_count": 20,
   "metadata": {},
   "outputs": [
    {
     "data": {
      "text/plain": [
       "array([nan, True, False], dtype=object)"
      ]
     },
     "execution_count": 20,
     "metadata": {},
     "output_type": "execute_result"
    }
   ],
   "source": [
    "df_bmw4['alerta_lim_velocidad'].unique() #Evaluamos luego"
   ]
  },
  {
   "cell_type": "markdown",
   "metadata": {},
   "source": [
    "## Hacemos una copia y cambiamos el formato de fechas."
   ]
  },
  {
   "cell_type": "code",
   "execution_count": 26,
   "metadata": {},
   "outputs": [],
   "source": [
    "df_bmw5 = df_bmw4.copy()"
   ]
  },
  {
   "cell_type": "code",
   "execution_count": 27,
   "metadata": {},
   "outputs": [],
   "source": [
    "df_bmw5['fecha_registro']=pd.to_datetime(df_bmw5['fecha_registro'])\n",
    "df_bmw5['fecha_venta']=pd.to_datetime(df_bmw5['fecha_venta'])"
   ]
  },
  {
   "cell_type": "markdown",
   "metadata": {},
   "source": [
    "## Creamos una nueva columna \"Antiguedad\" en años."
   ]
  },
  {
   "cell_type": "code",
   "execution_count": 30,
   "metadata": {},
   "outputs": [],
   "source": [
    "df_bmw5[\"antiguedad\"]= round((df_bmw5[\"fecha_venta\"]-df_bmw5[\"fecha_registro\"])/ np.timedelta64(1,'m'))/(1440*365)"
   ]
  },
  {
   "cell_type": "code",
   "execution_count": 31,
   "metadata": {},
   "outputs": [
    {
     "data": {
      "text/plain": [
       "0       5.920548\n",
       "1            NaN\n",
       "2       5.841096\n",
       "3            NaN\n",
       "4            NaN\n",
       "          ...   \n",
       "4838         NaN\n",
       "4839    3.169863\n",
       "4840    2.920548\n",
       "4841    2.419178\n",
       "4842         NaN\n",
       "Name: antiguedad, Length: 4817, dtype: float64"
      ]
     },
     "execution_count": 31,
     "metadata": {},
     "output_type": "execute_result"
    }
   ],
   "source": [
    "df_bmw5[\"antiguedad\"]"
   ]
  },
  {
   "cell_type": "markdown",
   "metadata": {},
   "source": []
  },
  {
   "cell_type": "markdown",
   "metadata": {},
   "source": [
    "## Completamos los nulos con la moda"
   ]
  },
  {
   "cell_type": "code",
   "execution_count": 32,
   "metadata": {},
   "outputs": [],
   "source": [
    "df_bmw5[\"antiguedad\"].fillna(df_bmw5[\"antiguedad\"].mode()[0], inplace=True)"
   ]
  },
  {
   "cell_type": "markdown",
   "metadata": {},
   "source": [
    "## Observamos nuestra nueva variable mediante un histrograma y nos damos cuenta que contiene valores negativos, lo cual no es posible. \n"
   ]
  },
  {
   "cell_type": "code",
   "execution_count": 33,
   "metadata": {},
   "outputs": [
    {
     "data": {
      "text/plain": [
       "array([[<Axes: title={'center': 'antiguedad'}>]], dtype=object)"
      ]
     },
     "execution_count": 33,
     "metadata": {},
     "output_type": "execute_result"
    },
    {
     "data": {
      "image/png": "[encoded data removed]",
      "text/plain": [
       "<Figure size 640x480 with 1 Axes>"
      ]
     },
     "metadata": {},
     "output_type": "display_data"
    }
   ],
   "source": [
    "df_bmw5.hist('antiguedad')"
   ]
  },
  {
   "cell_type": "code",
   "execution_count": 35,
   "metadata": {},
   "outputs": [],
   "source": [
    "#df_bmw5[df_bmw5['antiguedad']<0]\n",
    "#Elimino valores menors a 0\n",
    "df_bmw5.drop(df_bmw5[df_bmw5['antiguedad']<0].index, inplace=True)"
   ]
  },
  {
   "cell_type": "markdown",
   "metadata": {},
   "source": [
    "## Ahora revisamos resto de variables"
   ]
  },
  {
   "cell_type": "markdown",
   "metadata": {},
   "source": [
    "## Variable Km"
   ]
  },
  {
   "cell_type": "code",
   "execution_count": 36,
   "metadata": {},
   "outputs": [],
   "source": [
    "#Observamos que existe valor menos a \"0\", procedemos a eliminar\n",
    "df_bmw5.drop(df_bmw5[df_bmw5['km']<0].index, inplace=True)"
   ]
  },
  {
   "cell_type": "markdown",
   "metadata": {},
   "source": [
    "## Variable Potencia"
   ]
  },
  {
   "cell_type": "code",
   "execution_count": 37,
   "metadata": {},
   "outputs": [],
   "source": [
    "#Observamos que existe valor igual a \"0\", procedemos a eliminar\n",
    "df_bmw5.drop(df_bmw5[df_bmw5['potencia']==0].index, inplace=True)"
   ]
  },
  {
   "cell_type": "markdown",
   "metadata": {},
   "source": [
    "## Variable tipo_gasolina"
   ]
  },
  {
   "cell_type": "code",
   "execution_count": 38,
   "metadata": {},
   "outputs": [],
   "source": [
    "# Renombramos \"tipo gasolina\" a \"combustible\"\n",
    "df_bmw5.rename(columns={'tipo_gasolina': 'combustible'}, inplace=True)\n",
    "# Vemos los valores unicos en tipo de gasolina y observamos error en tipeo dentro de los tipos\n",
    "df_bmw5['combustible'].unique()\n",
    "# Estandarizamos los nombre de tipos a minuscula\n",
    "df_bmw5['combustible']=df_bmw5['combustible'].str.lower()"
   ]
  },
  {
   "cell_type": "code",
   "execution_count": 39,
   "metadata": {},
   "outputs": [],
   "source": [
    "#hacemos copia\n",
    "df_bmw6 = df_bmw5.copy()"
   ]
  },
  {
   "cell_type": "markdown",
   "metadata": {},
   "source": [
    "## Volvemos a las variables Booleanas"
   ]
  },
  {
   "cell_type": "code",
   "execution_count": 40,
   "metadata": {},
   "outputs": [],
   "source": [
    "# Preparamos una función que determine la proporción de cada variable_booleanas\n",
    "def calcular_proporcion_booleanos(df, columna):\n",
    "    \"\"\"\n",
    "    Calcula la proporción de valores booleanos en una columna de un DataFrame.\n",
    "\n",
    "    Parámetros:\n",
    "        - df: DataFrame de pandas.\n",
    "        - columna: Nombre de la columna que se va a analizar.\n",
    "\n",
    "    Retorna:\n",
    "        La proporción de valores True y False en la columna especificada.\n",
    "    \"\"\"\n",
    "    conteo_booleanos = df[columna].value_counts(normalize=True)\n",
    "    proporcion_true = conteo_booleanos.get(True, 0) * 100\n",
    "    proporcion_false = conteo_booleanos.get(False, 0) * 100\n",
    "    return proporcion_true, proporcion_false\n",
    "\n",
    "\n",
    "# Calcular la proporción de valores booleanos en la columna 'aire_acondicionado'\n",
    "proporcion_true_EE, proporcion_false_EE= calcular_proporcion_booleanos(df_bmw6, 'aire_acondicionado')\n",
    "proporcion_true_bluetooth,proporcion_false_bluetooth= calcular_proporcion_booleanos(df_bmw6, 'bluetooth')\n",
    "proporcion_true_alerta_lim_velocidad, proporcion_false_alerta_lim_velocidad= calcular_proporcion_booleanos(df_bmw6, 'alerta_lim_velocidad')"
   ]
  },
  {
   "cell_type": "markdown",
   "metadata": {},
   "source": [
    "## Preparamos funcion para rellenar nulos en columnas designadas con proporciones de True y False"
   ]
  },
  {
   "cell_type": "code",
   "execution_count": 41,
   "metadata": {},
   "outputs": [
    {
     "name": "stderr",
     "output_type": "stream",
     "text": [
      "C:\\Users\\rafas\\AppData\\Local\\Temp\\ipykernel_15088\\2693508799.py:21: FutureWarning: A value is trying to be set on a copy of a DataFrame or Series through chained assignment using an inplace method.\n",
      "The behavior will change in pandas 3.0. This inplace method will never work because the intermediate object on which we are setting values always behaves as a copy.\n",
      "\n",
      "For example, when doing 'df[col].method(value, inplace=True)', try using 'df.method({col: value}, inplace=True)' or df[col] = df[col].method(value) instead, to perform the operation inplace on the original object.\n",
      "\n",
      "\n",
      "  df[columna].fillna(valores_serie, inplace=True)\n",
      "C:\\Users\\rafas\\AppData\\Local\\Temp\\ipykernel_15088\\2693508799.py:21: FutureWarning: Downcasting object dtype arrays on .fillna, .ffill, .bfill is deprecated and will change in a future version. Call result.infer_objects(copy=False) instead. To opt-in to the future behavior, set `pd.set_option('future.no_silent_downcasting', True)`\n",
      "  df[columna].fillna(valores_serie, inplace=True)\n"
     ]
    }
   ],
   "source": [
    "def rellenar_nulos_con_proporciones(df, proporciones_true, proporciones_false):\n",
    "    \"\"\"\n",
    "    Rellena los valores nulos en las columnas específicas de un DataFrame con proporciones de True y False.\n",
    "\n",
    "    Parámetros:\n",
    "        - df: DataFrame de pandas.\n",
    "        - proporciones_true: Diccionario que mapea el nombre de la columna a su proporción de True.\n",
    "        - proporciones_false: Diccionario que mapea el nombre de la columna a su proporción de False.\n",
    "\n",
    "    Retorna:\n",
    "        El DataFrame con los valores nulos rellenados según las proporciones especificadas.\n",
    "    \"\"\"\n",
    "    for columna, proporcion_true in proporciones_true.items():\n",
    "        proporcion_false = proporciones_false[columna]\n",
    "        num_nulos = df[columna].isnull().sum()\n",
    "        num_true = round(num_nulos * proporcion_true)\n",
    "        num_false = num_nulos - num_true\n",
    "        valores = [True] * num_true + [False] * num_false\n",
    "        np.random.shuffle(valores)\n",
    "        valores_serie = pd.Series(valores, index=df.index[df[columna].isnull()])\n",
    "        df[columna].fillna(valores_serie, inplace=True)\n",
    "\n",
    "    return df\n",
    "\n",
    "# Diccionarios de proporciones de True y False\n",
    "proporciones_true = {\n",
    "    'aire_acondicionado': 0.8056,\n",
    "    'bluetooth': 0.2449,\n",
    "    'alerta_lim_velocidad': 0.5487\n",
    "}\n",
    "\n",
    "proporciones_false = {\n",
    "    'aire_acondicionado': 1 - proporciones_true['aire_acondicionado'],\n",
    "    'bluetooth': 1 - proporciones_true['bluetooth'],\n",
    "    'alerta_lim_velocidad': 1 - proporciones_true['alerta_lim_velocidad']\n",
    "}\n",
    "\n",
    "# Utilizar la función para rellenar los valores nulos en las columnas con las proporciones correspondientes\n",
    "df_bmw6 = rellenar_nulos_con_proporciones(df_bmw6, proporciones_true, proporciones_false)"
   ]
  },
  {
   "cell_type": "code",
   "execution_count": 42,
   "metadata": {},
   "outputs": [
    {
     "name": "stdout",
     "output_type": "stream",
     "text": [
      "<class 'pandas.core.frame.DataFrame'>\n",
      "Index: 4813 entries, 0 to 4842\n",
      "Data columns (total 17 columns):\n",
      " #   Column                Non-Null Count  Dtype         \n",
      "---  ------                --------------  -----         \n",
      " 0   modelo                4813 non-null   object        \n",
      " 1   km                    4813 non-null   float64       \n",
      " 2   potencia              4813 non-null   float64       \n",
      " 3   fecha_registro        2405 non-null   datetime64[ns]\n",
      " 4   combustible           4813 non-null   object        \n",
      " 5   color                 4813 non-null   object        \n",
      " 6   tipo_coche            4813 non-null   object        \n",
      " 7   volante_regulable     4813 non-null   object        \n",
      " 8   aire_acondicionado    4813 non-null   bool          \n",
      " 9   camara_trasera        4813 non-null   object        \n",
      " 10  elevalunas_electrico  4813 non-null   object        \n",
      " 11  bluetooth             4813 non-null   bool          \n",
      " 12  gps                   4813 non-null   bool          \n",
      " 13  alerta_lim_velocidad  4813 non-null   bool          \n",
      " 14  precio                4813 non-null   float64       \n",
      " 15  fecha_venta           4813 non-null   datetime64[ns]\n",
      " 16  antiguedad            4813 non-null   float64       \n",
      "dtypes: bool(4), datetime64[ns](2), float64(4), object(7)\n",
      "memory usage: 545.2+ KB\n"
     ]
    }
   ],
   "source": [
    "# hacemos un info para ver como van nuestros datos.\n",
    "df_bmw6.info()"
   ]
  },
  {
   "cell_type": "markdown",
   "metadata": {},
   "source": [
    "## Observamos que hay variables de tipo Objeto que son booleanas y las casteamos"
   ]
  },
  {
   "cell_type": "code",
   "execution_count": 43,
   "metadata": {},
   "outputs": [],
   "source": [
    "#Añadimos la columna con tipo booleana\n",
    "list_to_cast=['volante_regulable','camara_trasera','elevalunas_electrico']\n",
    "for i in list_to_cast:\n",
    "  df_bmw6[i] = df_bmw6[i].astype(bool)"
   ]
  },
  {
   "cell_type": "code",
   "execution_count": 44,
   "metadata": {},
   "outputs": [
    {
     "name": "stdout",
     "output_type": "stream",
     "text": [
      "<class 'pandas.core.frame.DataFrame'>\n",
      "Index: 4813 entries, 0 to 4842\n",
      "Data columns (total 17 columns):\n",
      " #   Column                Non-Null Count  Dtype         \n",
      "---  ------                --------------  -----         \n",
      " 0   modelo                4813 non-null   object        \n",
      " 1   km                    4813 non-null   float64       \n",
      " 2   potencia              4813 non-null   float64       \n",
      " 3   fecha_registro        2405 non-null   datetime64[ns]\n",
      " 4   combustible           4813 non-null   object        \n",
      " 5   color                 4813 non-null   object        \n",
      " 6   tipo_coche            4813 non-null   object        \n",
      " 7   volante_regulable     4813 non-null   bool          \n",
      " 8   aire_acondicionado    4813 non-null   bool          \n",
      " 9   camara_trasera        4813 non-null   bool          \n",
      " 10  elevalunas_electrico  4813 non-null   bool          \n",
      " 11  bluetooth             4813 non-null   bool          \n",
      " 12  gps                   4813 non-null   bool          \n",
      " 13  alerta_lim_velocidad  4813 non-null   bool          \n",
      " 14  precio                4813 non-null   float64       \n",
      " 15  fecha_venta           4813 non-null   datetime64[ns]\n",
      " 16  antiguedad            4813 non-null   float64       \n",
      "dtypes: bool(7), datetime64[ns](2), float64(4), object(4)\n",
      "memory usage: 446.5+ KB\n"
     ]
    }
   ],
   "source": [
    "df_bmw6.info()"
   ]
  },
  {
   "cell_type": "markdown",
   "metadata": {},
   "source": [
    "## como hemos creado la columna \"antiguedad\", procedemos a borrar \"fecha_registro\" y \"fecha_venta\""
   ]
  },
  {
   "cell_type": "code",
   "execution_count": 45,
   "metadata": {},
   "outputs": [],
   "source": [
    "list_to_delete = ['fecha_registro','fecha_venta']\n",
    "for i in list_to_delete:\n",
    "  del(df_bmw6[i])"
   ]
  },
  {
   "cell_type": "markdown",
   "metadata": {},
   "source": [
    "## Siguiendo con el análisis univariable y después de revisar el detalle de la variable modelo, observamos grupos que pertenecen a un cierto tipo_coche, los validamos y aseguramos los evidentes, trabajo sobre una copia nueva"
   ]
  },
  {
   "cell_type": "code",
   "execution_count": 47,
   "metadata": {},
   "outputs": [
    {
     "data": {
      "text/plain": [
       "tipo_coche\n",
       "sin tipo       1448\n",
       "estate         1096\n",
       "sedan           820\n",
       "suv             753\n",
       "hatchback       488\n",
       "subcompact       77\n",
       "coupe            73\n",
       "convertible      30\n",
       "van              28\n",
       "Name: count, dtype: int64"
      ]
     },
     "execution_count": 47,
     "metadata": {},
     "output_type": "execute_result"
    }
   ],
   "source": [
    "df_bmw6['tipo_coche'].value_counts()"
   ]
  },
  {
   "cell_type": "code",
   "execution_count": 48,
   "metadata": {},
   "outputs": [],
   "source": [
    "df_bmw7= df_bmw6.copy()"
   ]
  },
  {
   "cell_type": "code",
   "execution_count": 49,
   "metadata": {},
   "outputs": [
    {
     "data": {
      "text/plain": [
       "['X3', 'X5', 'X1', 'X4', 'X6']"
      ]
     },
     "execution_count": 49,
     "metadata": {},
     "output_type": "execute_result"
    }
   ],
   "source": [
    "#Capturo los modelos que inicien con \"X\"\n",
    "models_to_suv =[]\n",
    "for i in df_bmw7['modelo'].unique():\n",
    "  if ((i[0]=='X') & (len(i)==2)):\n",
    "    #print(i)\n",
    "    models_to_suv.append(i)\n",
    "\n",
    "models_to_suv"
   ]
  },
  {
   "cell_type": "code",
   "execution_count": 50,
   "metadata": {},
   "outputs": [],
   "source": [
    "#Me aseguro que todos los modelos que inicien con \"X\" son suv\n",
    "for i in models_to_suv:\n",
    "  df_bmw7.loc[df_bmw7[(df_bmw7['modelo']==i)].index,'tipo_coche']=\"suv\""
   ]
  },
  {
   "cell_type": "code",
   "execution_count": 51,
   "metadata": {},
   "outputs": [],
   "source": [
    "#Todos los modelos que contengan el término \"tourer\" son van\n",
    "models_to_tourer =[]\n",
    "for i in df_bmw7['modelo'].unique():\n",
    "  if (i.find('Tourer')!=-1):\n",
    "    #print(i)\n",
    "    models_to_tourer.append(i)\n",
    "\n",
    "#models_to_tourer\n",
    "for i in models_to_tourer:\n",
    "  df_bmw7.loc[df_bmw7[(df_bmw7['modelo']==i)].index,'tipo_coche']=\"van\""
   ]
  },
  {
   "cell_type": "code",
   "execution_count": 52,
   "metadata": {},
   "outputs": [],
   "source": [
    "#Todos los modelo que contengan el término \"coupe\" son coupe\n",
    "models_to_coupe =[]\n",
    "for i in df_bmw7['modelo'].unique():\n",
    "  if (i.find('Coupé')!=-1):\n",
    "    #print(i)\n",
    "    models_to_coupe.append(i)\n",
    "\n",
    "#models_to_coupe\n",
    "for i in models_to_coupe:\n",
    "  df_bmw7.loc[df_bmw7[(df_bmw7['modelo']==i)].index,'tipo_coche']=\"coupe\""
   ]
  },
  {
   "cell_type": "markdown",
   "metadata": {},
   "source": [
    "## Decidimos asignar modelos dentro de una nueva columna serie en particular, para esto reconocemos que cada serie engloba cierto tipo de modelos"
   ]
  },
  {
   "cell_type": "code",
   "execution_count": 53,
   "metadata": {},
   "outputs": [
    {
     "data": {
      "text/plain": [
       "array(['118', 'M4', '320', '420', '425', '335', '325', 'Z4', '120', '220',\n",
       "       '650', '135', '218', '318', '430', 'M3', '330', '225', 'M235',\n",
       "       '316', '435', '640', '640 Gran Coupé', '435 Gran Coupé', 'i8',\n",
       "       '630', '430 Gran Coupé', '635', '520', '525', '530', '535',\n",
       "       '320 Gran Turismo', '518', '116', '328', '523', 'X3', 'M550',\n",
       "       '528', '325 Gran Turismo', '125', '318 Gran Turismo',\n",
       "       '420 Gran Coupé', 'i3', '114', '520 Gran Turismo',\n",
       "       '530 Gran Turismo', 'M135', '418 Gran Coupé', '330 Gran Turismo',\n",
       "       '335 Gran Turismo', '730', '123', '535 Gran Turismo', '740', '750',\n",
       "       'ActiveHybrid 5', '735', 'M5', 'X5', 'X1', 'X4', 'X6', 'X6 M',\n",
       "       'X5 M', 'X5 M50', '218 Active Tourer', '218 Gran Tourer', '216',\n",
       "       '220 Active Tourer', '216 Gran Tourer', '216 Active Tourer',\n",
       "       ' Active Tourer', '225 Active Tourer', '214 Gran Tourer'],\n",
       "      dtype=object)"
      ]
     },
     "execution_count": 53,
     "metadata": {},
     "output_type": "execute_result"
    }
   ],
   "source": [
    "df_bmw7['modelo'].unique()"
   ]
  },
  {
   "cell_type": "code",
   "execution_count": 54,
   "metadata": {},
   "outputs": [],
   "source": [
    "def asignar_serie(modelo):\n",
    "    if modelo.startswith('1') or modelo.startswith('X1') or modelo.startswith('M1'):\n",
    "        return 'Serie 1'\n",
    "    elif modelo.startswith('2') or modelo.startswith(' Active Tourer') or modelo.startswith('M2'):\n",
    "        return 'Serie 2'\n",
    "    elif modelo.startswith('3') or modelo.startswith('X3') or modelo.startswith('M3') or modelo.startswith('i3'):\n",
    "        return 'Serie 3'\n",
    "    elif modelo.startswith('4') or modelo.startswith('X4') or modelo.startswith('M4'):\n",
    "        return 'Serie 4'\n",
    "    elif modelo.startswith('5') or modelo.startswith('X5') or modelo.startswith('ActiveHy') or modelo.startswith('M5'):\n",
    "        return 'Serie 5'\n",
    "    elif modelo.startswith('6') or modelo.startswith('X6') :\n",
    "        return 'Serie 6'\n",
    "    elif modelo.startswith('7') or modelo.startswith('i8'):\n",
    "        return 'Serie 7'\n",
    "    elif modelo.startswith('Z'):\n",
    "        return 'Serie Z'\n",
    "    else:\n",
    "        return 'Otro'  # Si no coincide con ninguna serie conocida"
   ]
  },
  {
   "cell_type": "code",
   "execution_count": 55,
   "metadata": {},
   "outputs": [],
   "source": [
    "# Creamos una nueva columna 'serie' aplicando la función asignar_serie a la columna 'modelo'\n",
    "df_bmw7['serie'] = df_bmw7['modelo'].apply(asignar_serie)"
   ]
  },
  {
   "cell_type": "code",
   "execution_count": 56,
   "metadata": {},
   "outputs": [
    {
     "data": {
      "text/plain": [
       "serie\n",
       "Serie 3    2234\n",
       "Serie 5    1398\n",
       "Serie 1     837\n",
       "Serie 4     149\n",
       "Serie 6      81\n",
       "Serie 7      55\n",
       "Serie 2      53\n",
       "Serie Z       6\n",
       "Name: count, dtype: int64"
      ]
     },
     "execution_count": 56,
     "metadata": {},
     "output_type": "execute_result"
    }
   ],
   "source": [
    "df_bmw7['serie'].value_counts()"
   ]
  },
  {
   "cell_type": "code",
   "execution_count": 57,
   "metadata": {},
   "outputs": [],
   "source": [
    "df_bmw8 = df_bmw7.copy()"
   ]
  },
  {
   "cell_type": "markdown",
   "metadata": {},
   "source": [
    "## Analizamos la variable precio"
   ]
  },
  {
   "cell_type": "code",
   "execution_count": 58,
   "metadata": {},
   "outputs": [
    {
     "data": {
      "text/html": [
       "<div>\n",
       "<style scoped>\n",
       "    .dataframe tbody tr th:only-of-type {\n",
       "        vertical-align: middle;\n",
       "    }\n",
       "\n",
       "    .dataframe tbody tr th {\n",
       "        vertical-align: top;\n",
       "    }\n",
       "\n",
       "    .dataframe thead th {\n",
       "        text-align: right;\n",
       "    }\n",
       "</style>\n",
       "<table border=\"1\" class=\"dataframe\">\n",
       "  <thead>\n",
       "    <tr style=\"text-align: right;\">\n",
       "      <th></th>\n",
       "      <th>modelo</th>\n",
       "      <th>km</th>\n",
       "      <th>potencia</th>\n",
       "      <th>combustible</th>\n",
       "      <th>color</th>\n",
       "      <th>tipo_coche</th>\n",
       "      <th>volante_regulable</th>\n",
       "      <th>aire_acondicionado</th>\n",
       "      <th>camara_trasera</th>\n",
       "      <th>elevalunas_electrico</th>\n",
       "      <th>bluetooth</th>\n",
       "      <th>gps</th>\n",
       "      <th>alerta_lim_velocidad</th>\n",
       "      <th>precio</th>\n",
       "      <th>antiguedad</th>\n",
       "      <th>serie</th>\n",
       "    </tr>\n",
       "  </thead>\n",
       "  <tbody>\n",
       "    <tr>\n",
       "      <th>58</th>\n",
       "      <td>316</td>\n",
       "      <td>265751.0</td>\n",
       "      <td>85.0</td>\n",
       "      <td>petrol</td>\n",
       "      <td>silver</td>\n",
       "      <td>coupe</td>\n",
       "      <td>False</td>\n",
       "      <td>False</td>\n",
       "      <td>False</td>\n",
       "      <td>False</td>\n",
       "      <td>False</td>\n",
       "      <td>False</td>\n",
       "      <td>False</td>\n",
       "      <td>1000.0</td>\n",
       "      <td>4.002740</td>\n",
       "      <td>Serie 3</td>\n",
       "    </tr>\n",
       "    <tr>\n",
       "      <th>165</th>\n",
       "      <td>320</td>\n",
       "      <td>209208.0</td>\n",
       "      <td>135.0</td>\n",
       "      <td>diesel</td>\n",
       "      <td>black</td>\n",
       "      <td>estate</td>\n",
       "      <td>False</td>\n",
       "      <td>True</td>\n",
       "      <td>False</td>\n",
       "      <td>False</td>\n",
       "      <td>False</td>\n",
       "      <td>False</td>\n",
       "      <td>True</td>\n",
       "      <td>800.0</td>\n",
       "      <td>4.002740</td>\n",
       "      <td>Serie 3</td>\n",
       "    </tr>\n",
       "    <tr>\n",
       "      <th>170</th>\n",
       "      <td>320</td>\n",
       "      <td>146639.0</td>\n",
       "      <td>135.0</td>\n",
       "      <td>diesel</td>\n",
       "      <td>silver</td>\n",
       "      <td>estate</td>\n",
       "      <td>False</td>\n",
       "      <td>True</td>\n",
       "      <td>False</td>\n",
       "      <td>False</td>\n",
       "      <td>False</td>\n",
       "      <td>True</td>\n",
       "      <td>True</td>\n",
       "      <td>800.0</td>\n",
       "      <td>4.002740</td>\n",
       "      <td>Serie 3</td>\n",
       "    </tr>\n",
       "    <tr>\n",
       "      <th>171</th>\n",
       "      <td>316</td>\n",
       "      <td>159983.0</td>\n",
       "      <td>85.0</td>\n",
       "      <td>diesel</td>\n",
       "      <td>grey</td>\n",
       "      <td>estate</td>\n",
       "      <td>False</td>\n",
       "      <td>False</td>\n",
       "      <td>False</td>\n",
       "      <td>False</td>\n",
       "      <td>False</td>\n",
       "      <td>False</td>\n",
       "      <td>True</td>\n",
       "      <td>800.0</td>\n",
       "      <td>4.002740</td>\n",
       "      <td>Serie 3</td>\n",
       "    </tr>\n",
       "    <tr>\n",
       "      <th>174</th>\n",
       "      <td>520</td>\n",
       "      <td>270884.0</td>\n",
       "      <td>100.0</td>\n",
       "      <td>diesel</td>\n",
       "      <td>blue</td>\n",
       "      <td>estate</td>\n",
       "      <td>True</td>\n",
       "      <td>False</td>\n",
       "      <td>False</td>\n",
       "      <td>False</td>\n",
       "      <td>False</td>\n",
       "      <td>True</td>\n",
       "      <td>False</td>\n",
       "      <td>1100.0</td>\n",
       "      <td>4.002740</td>\n",
       "      <td>Serie 5</td>\n",
       "    </tr>\n",
       "    <tr>\n",
       "      <th>...</th>\n",
       "      <td>...</td>\n",
       "      <td>...</td>\n",
       "      <td>...</td>\n",
       "      <td>...</td>\n",
       "      <td>...</td>\n",
       "      <td>...</td>\n",
       "      <td>...</td>\n",
       "      <td>...</td>\n",
       "      <td>...</td>\n",
       "      <td>...</td>\n",
       "      <td>...</td>\n",
       "      <td>...</td>\n",
       "      <td>...</td>\n",
       "      <td>...</td>\n",
       "      <td>...</td>\n",
       "      <td>...</td>\n",
       "    </tr>\n",
       "    <tr>\n",
       "      <th>3880</th>\n",
       "      <td>X1</td>\n",
       "      <td>170742.0</td>\n",
       "      <td>135.0</td>\n",
       "      <td>diesel</td>\n",
       "      <td>blue</td>\n",
       "      <td>suv</td>\n",
       "      <td>False</td>\n",
       "      <td>False</td>\n",
       "      <td>False</td>\n",
       "      <td>False</td>\n",
       "      <td>False</td>\n",
       "      <td>True</td>\n",
       "      <td>False</td>\n",
       "      <td>800.0</td>\n",
       "      <td>4.002740</td>\n",
       "      <td>Serie 1</td>\n",
       "    </tr>\n",
       "    <tr>\n",
       "      <th>3939</th>\n",
       "      <td>X1</td>\n",
       "      <td>140752.0</td>\n",
       "      <td>105.0</td>\n",
       "      <td>diesel</td>\n",
       "      <td>black</td>\n",
       "      <td>suv</td>\n",
       "      <td>False</td>\n",
       "      <td>False</td>\n",
       "      <td>False</td>\n",
       "      <td>False</td>\n",
       "      <td>False</td>\n",
       "      <td>False</td>\n",
       "      <td>True</td>\n",
       "      <td>800.0</td>\n",
       "      <td>4.002740</td>\n",
       "      <td>Serie 1</td>\n",
       "    </tr>\n",
       "    <tr>\n",
       "      <th>4356</th>\n",
       "      <td>X3</td>\n",
       "      <td>79685.0</td>\n",
       "      <td>190.0</td>\n",
       "      <td>diesel</td>\n",
       "      <td>black</td>\n",
       "      <td>suv</td>\n",
       "      <td>False</td>\n",
       "      <td>False</td>\n",
       "      <td>False</td>\n",
       "      <td>False</td>\n",
       "      <td>False</td>\n",
       "      <td>False</td>\n",
       "      <td>True</td>\n",
       "      <td>100.0</td>\n",
       "      <td>4.246575</td>\n",
       "      <td>Serie 3</td>\n",
       "    </tr>\n",
       "    <tr>\n",
       "      <th>4806</th>\n",
       "      <td>218</td>\n",
       "      <td>118323.0</td>\n",
       "      <td>110.0</td>\n",
       "      <td>diesel</td>\n",
       "      <td>white</td>\n",
       "      <td>sin tipo</td>\n",
       "      <td>False</td>\n",
       "      <td>False</td>\n",
       "      <td>False</td>\n",
       "      <td>False</td>\n",
       "      <td>False</td>\n",
       "      <td>False</td>\n",
       "      <td>False</td>\n",
       "      <td>800.0</td>\n",
       "      <td>3.421918</td>\n",
       "      <td>Serie 2</td>\n",
       "    </tr>\n",
       "    <tr>\n",
       "      <th>4818</th>\n",
       "      <td>X3</td>\n",
       "      <td>110039.0</td>\n",
       "      <td>130.0</td>\n",
       "      <td>diesel</td>\n",
       "      <td>black</td>\n",
       "      <td>suv</td>\n",
       "      <td>False</td>\n",
       "      <td>False</td>\n",
       "      <td>False</td>\n",
       "      <td>False</td>\n",
       "      <td>False</td>\n",
       "      <td>True</td>\n",
       "      <td>False</td>\n",
       "      <td>1300.0</td>\n",
       "      <td>8.838356</td>\n",
       "      <td>Serie 3</td>\n",
       "    </tr>\n",
       "  </tbody>\n",
       "</table>\n",
       "<p>86 rows × 16 columns</p>\n",
       "</div>"
      ],
      "text/plain": [
       "     modelo        km  potencia combustible   color tipo_coche  \\\n",
       "58      316  265751.0      85.0      petrol  silver      coupe   \n",
       "165     320  209208.0     135.0      diesel   black     estate   \n",
       "170     320  146639.0     135.0      diesel  silver     estate   \n",
       "171     316  159983.0      85.0      diesel    grey     estate   \n",
       "174     520  270884.0     100.0      diesel    blue     estate   \n",
       "...     ...       ...       ...         ...     ...        ...   \n",
       "3880     X1  170742.0     135.0      diesel    blue        suv   \n",
       "3939     X1  140752.0     105.0      diesel   black        suv   \n",
       "4356     X3   79685.0     190.0      diesel   black        suv   \n",
       "4806    218  118323.0     110.0      diesel   white   sin tipo   \n",
       "4818     X3  110039.0     130.0      diesel   black        suv   \n",
       "\n",
       "      volante_regulable  aire_acondicionado  camara_trasera  \\\n",
       "58                False               False           False   \n",
       "165               False                True           False   \n",
       "170               False                True           False   \n",
       "171               False               False           False   \n",
       "174                True               False           False   \n",
       "...                 ...                 ...             ...   \n",
       "3880              False               False           False   \n",
       "3939              False               False           False   \n",
       "4356              False               False           False   \n",
       "4806              False               False           False   \n",
       "4818              False               False           False   \n",
       "\n",
       "      elevalunas_electrico  bluetooth    gps  alerta_lim_velocidad  precio  \\\n",
       "58                   False      False  False                 False  1000.0   \n",
       "165                  False      False  False                  True   800.0   \n",
       "170                  False      False   True                  True   800.0   \n",
       "171                  False      False  False                  True   800.0   \n",
       "174                  False      False   True                 False  1100.0   \n",
       "...                    ...        ...    ...                   ...     ...   \n",
       "3880                 False      False   True                 False   800.0   \n",
       "3939                 False      False  False                  True   800.0   \n",
       "4356                 False      False  False                  True   100.0   \n",
       "4806                 False      False  False                 False   800.0   \n",
       "4818                 False      False   True                 False  1300.0   \n",
       "\n",
       "      antiguedad    serie  \n",
       "58      4.002740  Serie 3  \n",
       "165     4.002740  Serie 3  \n",
       "170     4.002740  Serie 3  \n",
       "171     4.002740  Serie 3  \n",
       "174     4.002740  Serie 5  \n",
       "...          ...      ...  \n",
       "3880    4.002740  Serie 1  \n",
       "3939    4.002740  Serie 1  \n",
       "4356    4.246575  Serie 3  \n",
       "4806    3.421918  Serie 2  \n",
       "4818    8.838356  Serie 3  \n",
       "\n",
       "[86 rows x 16 columns]"
      ]
     },
     "execution_count": 58,
     "metadata": {},
     "output_type": "execute_result"
    }
   ],
   "source": [
    "df_bmw8[df_bmw8['precio'] < 1500]"
   ]
  },
  {
   "cell_type": "code",
   "execution_count": 59,
   "metadata": {},
   "outputs": [],
   "source": [
    "#Decidimos seguir el input inicial del negocio(al ser una empresa de segunda mano y no de piezas)\n",
    "#Asumimos que los precios menor a 1500 son para desguace, con lo cual no los considerariamos para nuestro modelo.\n",
    "df_bmw7.drop(df_bmw7[df_bmw7['precio'] < 1500].index,inplace=True)"
   ]
  },
  {
   "cell_type": "code",
   "execution_count": 60,
   "metadata": {},
   "outputs": [
    {
     "data": {
      "text/plain": [
       "<Axes: >"
      ]
     },
     "execution_count": 60,
     "metadata": {},
     "output_type": "execute_result"
    },
    {
     "data": {
      "image/png": "[encoded data removed]",
      "text/plain": [
       "<Figure size 640x480 with 1 Axes>"
      ]
     },
     "metadata": {},
     "output_type": "display_data"
    }
   ],
   "source": [
    "df_bmw8['precio'].hist()"
   ]
  },
  {
   "cell_type": "code",
   "execution_count": 61,
   "metadata": {},
   "outputs": [],
   "source": [
    "df_bmw8['log_precio'] = np.log10(df_bmw8['precio'])"
   ]
  },
  {
   "cell_type": "code",
   "execution_count": 62,
   "metadata": {},
   "outputs": [
    {
     "data": {
      "text/plain": [
       "<Axes: >"
      ]
     },
     "execution_count": 62,
     "metadata": {},
     "output_type": "execute_result"
    },
    {
     "data": {
      "image/png": "[encoded data removed]",
      "text/plain": [
       "<Figure size 640x480 with 1 Axes>"
      ]
     },
     "metadata": {},
     "output_type": "display_data"
    }
   ],
   "source": [
    "df_bmw8['log_precio'].hist()"
   ]
  },
  {
   "cell_type": "markdown",
   "metadata": {},
   "source": [
    "## Hacemos la correlación para evaluar las variables, previa copia"
   ]
  },
  {
   "cell_type": "code",
   "execution_count": 64,
   "metadata": {},
   "outputs": [],
   "source": [
    "df_bmw9 = df_bmw8.copy()"
   ]
  },
  {
   "cell_type": "code",
   "execution_count": 65,
   "metadata": {},
   "outputs": [],
   "source": [
    "corr = df_bmw9.corr(numeric_only=True)"
   ]
  },
  {
   "cell_type": "code",
   "execution_count": 66,
   "metadata": {},
   "outputs": [
    {
     "data": {
      "text/html": [
       "<style type=\"text/css\">\n",
       "#T_d3cfa_row0_col0, #T_d3cfa_row1_col1, #T_d3cfa_row2_col2, #T_d3cfa_row3_col3, #T_d3cfa_row4_col4, #T_d3cfa_row5_col5, #T_d3cfa_row6_col6, #T_d3cfa_row7_col7, #T_d3cfa_row8_col8, #T_d3cfa_row9_col9, #T_d3cfa_row10_col10, #T_d3cfa_row11_col11 {\n",
       "  background-color: #b40426;\n",
       "  color: #f1f1f1;\n",
       "}\n",
       "#T_d3cfa_row0_col1, #T_d3cfa_row0_col6 {\n",
       "  background-color: #3d50c3;\n",
       "  color: #f1f1f1;\n",
       "}\n",
       "#T_d3cfa_row0_col2 {\n",
       "  background-color: #4257c9;\n",
       "  color: #f1f1f1;\n",
       "}\n",
       "#T_d3cfa_row0_col3 {\n",
       "  background-color: #5f7fe8;\n",
       "  color: #f1f1f1;\n",
       "}\n",
       "#T_d3cfa_row0_col4, #T_d3cfa_row0_col9, #T_d3cfa_row0_col11, #T_d3cfa_row8_col7, #T_d3cfa_row10_col1, #T_d3cfa_row10_col2, #T_d3cfa_row10_col3, #T_d3cfa_row10_col5, #T_d3cfa_row10_col6, #T_d3cfa_row10_col8, #T_d3cfa_row11_col0, #T_d3cfa_row11_col10 {\n",
       "  background-color: #3b4cc0;\n",
       "  color: #f1f1f1;\n",
       "}\n",
       "#T_d3cfa_row0_col5, #T_d3cfa_row8_col6 {\n",
       "  background-color: #5a78e4;\n",
       "  color: #f1f1f1;\n",
       "}\n",
       "#T_d3cfa_row0_col7 {\n",
       "  background-color: #7da0f9;\n",
       "  color: #f1f1f1;\n",
       "}\n",
       "#T_d3cfa_row0_col8, #T_d3cfa_row9_col7 {\n",
       "  background-color: #4961d2;\n",
       "  color: #f1f1f1;\n",
       "}\n",
       "#T_d3cfa_row0_col10 {\n",
       "  background-color: #dfdbd9;\n",
       "  color: #000000;\n",
       "}\n",
       "#T_d3cfa_row1_col0, #T_d3cfa_row6_col5 {\n",
       "  background-color: #94b6ff;\n",
       "  color: #000000;\n",
       "}\n",
       "#T_d3cfa_row1_col2, #T_d3cfa_row9_col3 {\n",
       "  background-color: #9ebeff;\n",
       "  color: #000000;\n",
       "}\n",
       "#T_d3cfa_row1_col3 {\n",
       "  background-color: #92b4fe;\n",
       "  color: #000000;\n",
       "}\n",
       "#T_d3cfa_row1_col4 {\n",
       "  background-color: #a2c1ff;\n",
       "  color: #000000;\n",
       "}\n",
       "#T_d3cfa_row1_col5, #T_d3cfa_row5_col1 {\n",
       "  background-color: #bad0f8;\n",
       "  color: #000000;\n",
       "}\n",
       "#T_d3cfa_row1_col6, #T_d3cfa_row8_col10 {\n",
       "  background-color: #84a7fc;\n",
       "  color: #f1f1f1;\n",
       "}\n",
       "#T_d3cfa_row1_col7 {\n",
       "  background-color: #4e68d8;\n",
       "  color: #f1f1f1;\n",
       "}\n",
       "#T_d3cfa_row1_col8 {\n",
       "  background-color: #d4dbe6;\n",
       "  color: #000000;\n",
       "}\n",
       "#T_d3cfa_row1_col9 {\n",
       "  background-color: #f59c7d;\n",
       "  color: #000000;\n",
       "}\n",
       "#T_d3cfa_row1_col10, #T_d3cfa_row4_col5 {\n",
       "  background-color: #8badfd;\n",
       "  color: #000000;\n",
       "}\n",
       "#T_d3cfa_row1_col11, #T_d3cfa_row9_col1 {\n",
       "  background-color: #f7ba9f;\n",
       "  color: #000000;\n",
       "}\n",
       "#T_d3cfa_row2_col0, #T_d3cfa_row4_col1 {\n",
       "  background-color: #afcafc;\n",
       "  color: #000000;\n",
       "}\n",
       "#T_d3cfa_row2_col1 {\n",
       "  background-color: #b5cdfa;\n",
       "  color: #000000;\n",
       "}\n",
       "#T_d3cfa_row2_col3 {\n",
       "  background-color: #b2ccfb;\n",
       "  color: #000000;\n",
       "}\n",
       "#T_d3cfa_row2_col4, #T_d3cfa_row2_col8, #T_d3cfa_row5_col6, #T_d3cfa_row9_col4 {\n",
       "  background-color: #8db0fe;\n",
       "  color: #000000;\n",
       "}\n",
       "#T_d3cfa_row2_col5 {\n",
       "  background-color: #a6c4fe;\n",
       "  color: #000000;\n",
       "}\n",
       "#T_d3cfa_row2_col6 {\n",
       "  background-color: #6a8bef;\n",
       "  color: #f1f1f1;\n",
       "}\n",
       "#T_d3cfa_row2_col7, #T_d3cfa_row6_col0 {\n",
       "  background-color: #9abbff;\n",
       "  color: #000000;\n",
       "}\n",
       "#T_d3cfa_row2_col9, #T_d3cfa_row2_col11, #T_d3cfa_row5_col9 {\n",
       "  background-color: #d7dce3;\n",
       "  color: #000000;\n",
       "}\n",
       "#T_d3cfa_row2_col10, #T_d3cfa_row3_col0 {\n",
       "  background-color: #a3c2fe;\n",
       "  color: #000000;\n",
       "}\n",
       "#T_d3cfa_row3_col1, #T_d3cfa_row4_col2 {\n",
       "  background-color: #82a6fb;\n",
       "  color: #f1f1f1;\n",
       "}\n",
       "#T_d3cfa_row3_col2, #T_d3cfa_row5_col2, #T_d3cfa_row5_col7, #T_d3cfa_row7_col5 {\n",
       "  background-color: #8caffe;\n",
       "  color: #000000;\n",
       "}\n",
       "#T_d3cfa_row3_col4, #T_d3cfa_row7_col6 {\n",
       "  background-color: #6687ed;\n",
       "  color: #f1f1f1;\n",
       "}\n",
       "#T_d3cfa_row3_col5, #T_d3cfa_row4_col10 {\n",
       "  background-color: #9dbdff;\n",
       "  color: #000000;\n",
       "}\n",
       "#T_d3cfa_row3_col6 {\n",
       "  background-color: #6384eb;\n",
       "  color: #f1f1f1;\n",
       "}\n",
       "#T_d3cfa_row3_col7 {\n",
       "  background-color: #b7cff9;\n",
       "  color: #000000;\n",
       "}\n",
       "#T_d3cfa_row3_col8, #T_d3cfa_row4_col3 {\n",
       "  background-color: #86a9fc;\n",
       "  color: #f1f1f1;\n",
       "}\n",
       "#T_d3cfa_row3_col9, #T_d3cfa_row4_col11 {\n",
       "  background-color: #cdd9ec;\n",
       "  color: #000000;\n",
       "}\n",
       "#T_d3cfa_row3_col10, #T_d3cfa_row5_col4, #T_d3cfa_row6_col3, #T_d3cfa_row11_col4, #T_d3cfa_row11_col6 {\n",
       "  background-color: #7a9df8;\n",
       "  color: #f1f1f1;\n",
       "}\n",
       "#T_d3cfa_row3_col11 {\n",
       "  background-color: #dedcdb;\n",
       "  color: #000000;\n",
       "}\n",
       "#T_d3cfa_row4_col0, #T_d3cfa_row9_col5 {\n",
       "  background-color: #a1c0ff;\n",
       "  color: #000000;\n",
       "}\n",
       "#T_d3cfa_row4_col6, #T_d3cfa_row8_col2 {\n",
       "  background-color: #6b8df0;\n",
       "  color: #f1f1f1;\n",
       "}\n",
       "#T_d3cfa_row4_col7, #T_d3cfa_row10_col7 {\n",
       "  background-color: #5e7de7;\n",
       "  color: #f1f1f1;\n",
       "}\n",
       "#T_d3cfa_row4_col8 {\n",
       "  background-color: #85a8fc;\n",
       "  color: #f1f1f1;\n",
       "}\n",
       "#T_d3cfa_row4_col9 {\n",
       "  background-color: #d5dbe5;\n",
       "  color: #000000;\n",
       "}\n",
       "#T_d3cfa_row5_col0 {\n",
       "  background-color: #abc8fd;\n",
       "  color: #000000;\n",
       "}\n",
       "#T_d3cfa_row5_col3, #T_d3cfa_row8_col5 {\n",
       "  background-color: #a9c6fd;\n",
       "  color: #000000;\n",
       "}\n",
       "#T_d3cfa_row5_col8 {\n",
       "  background-color: #aec9fc;\n",
       "  color: #000000;\n",
       "}\n",
       "#T_d3cfa_row5_col10, #T_d3cfa_row6_col1 {\n",
       "  background-color: #89acfd;\n",
       "  color: #000000;\n",
       "}\n",
       "#T_d3cfa_row5_col11, #T_d3cfa_row10_col0 {\n",
       "  background-color: #e3d9d3;\n",
       "  color: #000000;\n",
       "}\n",
       "#T_d3cfa_row6_col2 {\n",
       "  background-color: #5470de;\n",
       "  color: #f1f1f1;\n",
       "}\n",
       "#T_d3cfa_row6_col4 {\n",
       "  background-color: #6180e9;\n",
       "  color: #f1f1f1;\n",
       "}\n",
       "#T_d3cfa_row6_col7, #T_d3cfa_row8_col4 {\n",
       "  background-color: #6e90f2;\n",
       "  color: #f1f1f1;\n",
       "}\n",
       "#T_d3cfa_row6_col8 {\n",
       "  background-color: #688aef;\n",
       "  color: #f1f1f1;\n",
       "}\n",
       "#T_d3cfa_row6_col9, #T_d3cfa_row7_col0, #T_d3cfa_row11_col8 {\n",
       "  background-color: #c4d5f3;\n",
       "  color: #000000;\n",
       "}\n",
       "#T_d3cfa_row6_col10 {\n",
       "  background-color: #90b2fe;\n",
       "  color: #000000;\n",
       "}\n",
       "#T_d3cfa_row6_col11 {\n",
       "  background-color: #c7d7f0;\n",
       "  color: #000000;\n",
       "}\n",
       "#T_d3cfa_row7_col1, #T_d3cfa_row7_col4 {\n",
       "  background-color: #4c66d6;\n",
       "  color: #f1f1f1;\n",
       "}\n",
       "#T_d3cfa_row7_col2 {\n",
       "  background-color: #7ea1fa;\n",
       "  color: #f1f1f1;\n",
       "}\n",
       "#T_d3cfa_row7_col3 {\n",
       "  background-color: #c1d4f4;\n",
       "  color: #000000;\n",
       "}\n",
       "#T_d3cfa_row7_col8, #T_d3cfa_row9_col0 {\n",
       "  background-color: #4055c8;\n",
       "  color: #f1f1f1;\n",
       "}\n",
       "#T_d3cfa_row7_col9 {\n",
       "  background-color: #98b9ff;\n",
       "  color: #000000;\n",
       "}\n",
       "#T_d3cfa_row7_col10 {\n",
       "  background-color: #a7c5fe;\n",
       "  color: #000000;\n",
       "}\n",
       "#T_d3cfa_row7_col11 {\n",
       "  background-color: #aac7fd;\n",
       "  color: #000000;\n",
       "}\n",
       "#T_d3cfa_row8_col0 {\n",
       "  background-color: #97b8ff;\n",
       "  color: #000000;\n",
       "}\n",
       "#T_d3cfa_row8_col1 {\n",
       "  background-color: #d1dae9;\n",
       "  color: #000000;\n",
       "}\n",
       "#T_d3cfa_row8_col3 {\n",
       "  background-color: #8fb1fe;\n",
       "  color: #000000;\n",
       "}\n",
       "#T_d3cfa_row8_col9 {\n",
       "  background-color: #ebd3c6;\n",
       "  color: #000000;\n",
       "}\n",
       "#T_d3cfa_row8_col11 {\n",
       "  background-color: #ead4c8;\n",
       "  color: #000000;\n",
       "}\n",
       "#T_d3cfa_row9_col2 {\n",
       "  background-color: #88abfd;\n",
       "  color: #000000;\n",
       "}\n",
       "#T_d3cfa_row9_col6 {\n",
       "  background-color: #7b9ff9;\n",
       "  color: #f1f1f1;\n",
       "}\n",
       "#T_d3cfa_row9_col8 {\n",
       "  background-color: #cad8ef;\n",
       "  color: #000000;\n",
       "}\n",
       "#T_d3cfa_row9_col10 {\n",
       "  background-color: #536edd;\n",
       "  color: #f1f1f1;\n",
       "}\n",
       "#T_d3cfa_row9_col11, #T_d3cfa_row11_col9 {\n",
       "  background-color: #e0654f;\n",
       "  color: #f1f1f1;\n",
       "}\n",
       "#T_d3cfa_row10_col4 {\n",
       "  background-color: #3e51c5;\n",
       "  color: #f1f1f1;\n",
       "}\n",
       "#T_d3cfa_row10_col9 {\n",
       "  background-color: #5572df;\n",
       "  color: #f1f1f1;\n",
       "}\n",
       "#T_d3cfa_row10_col11 {\n",
       "  background-color: #4358cb;\n",
       "  color: #f1f1f1;\n",
       "}\n",
       "#T_d3cfa_row11_col1 {\n",
       "  background-color: #e5d8d1;\n",
       "  color: #000000;\n",
       "}\n",
       "#T_d3cfa_row11_col2 {\n",
       "  background-color: #81a4fb;\n",
       "  color: #f1f1f1;\n",
       "}\n",
       "#T_d3cfa_row11_col3 {\n",
       "  background-color: #b6cefa;\n",
       "  color: #000000;\n",
       "}\n",
       "#T_d3cfa_row11_col5 {\n",
       "  background-color: #b3cdfb;\n",
       "  color: #000000;\n",
       "}\n",
       "#T_d3cfa_row11_col7 {\n",
       "  background-color: #5977e3;\n",
       "  color: #f1f1f1;\n",
       "}\n",
       "</style>\n",
       "<table id=\"T_d3cfa\">\n",
       "  <thead>\n",
       "    <tr>\n",
       "      <th class=\"blank level0\" >&nbsp;</th>\n",
       "      <th id=\"T_d3cfa_level0_col0\" class=\"col_heading level0 col0\" >km</th>\n",
       "      <th id=\"T_d3cfa_level0_col1\" class=\"col_heading level0 col1\" >potencia</th>\n",
       "      <th id=\"T_d3cfa_level0_col2\" class=\"col_heading level0 col2\" >volante_regulable</th>\n",
       "      <th id=\"T_d3cfa_level0_col3\" class=\"col_heading level0 col3\" >aire_acondicionado</th>\n",
       "      <th id=\"T_d3cfa_level0_col4\" class=\"col_heading level0 col4\" >camara_trasera</th>\n",
       "      <th id=\"T_d3cfa_level0_col5\" class=\"col_heading level0 col5\" >elevalunas_electrico</th>\n",
       "      <th id=\"T_d3cfa_level0_col6\" class=\"col_heading level0 col6\" >bluetooth</th>\n",
       "      <th id=\"T_d3cfa_level0_col7\" class=\"col_heading level0 col7\" >gps</th>\n",
       "      <th id=\"T_d3cfa_level0_col8\" class=\"col_heading level0 col8\" >alerta_lim_velocidad</th>\n",
       "      <th id=\"T_d3cfa_level0_col9\" class=\"col_heading level0 col9\" >precio</th>\n",
       "      <th id=\"T_d3cfa_level0_col10\" class=\"col_heading level0 col10\" >antiguedad</th>\n",
       "      <th id=\"T_d3cfa_level0_col11\" class=\"col_heading level0 col11\" >log_precio</th>\n",
       "    </tr>\n",
       "  </thead>\n",
       "  <tbody>\n",
       "    <tr>\n",
       "      <th id=\"T_d3cfa_level0_row0\" class=\"row_heading level0 row0\" >km</th>\n",
       "      <td id=\"T_d3cfa_row0_col0\" class=\"data row0 col0\" >1.000000</td>\n",
       "      <td id=\"T_d3cfa_row0_col1\" class=\"data row0 col1\" >-0.049268</td>\n",
       "      <td id=\"T_d3cfa_row0_col2\" class=\"data row0 col2\" >0.066722</td>\n",
       "      <td id=\"T_d3cfa_row0_col3\" class=\"data row0 col3\" >0.013913</td>\n",
       "      <td id=\"T_d3cfa_row0_col4\" class=\"data row0 col4\" >0.001848</td>\n",
       "      <td id=\"T_d3cfa_row0_col5\" class=\"data row0 col5\" >0.045899</td>\n",
       "      <td id=\"T_d3cfa_row0_col6\" class=\"data row0 col6\" >-0.026247</td>\n",
       "      <td id=\"T_d3cfa_row0_col7\" class=\"data row0 col7\" >0.154802</td>\n",
       "      <td id=\"T_d3cfa_row0_col8\" class=\"data row0 col8\" >-0.034530</td>\n",
       "      <td id=\"T_d3cfa_row0_col9\" class=\"data row0 col9\" >-0.408625</td>\n",
       "      <td id=\"T_d3cfa_row0_col10\" class=\"data row0 col10\" >0.316336</td>\n",
       "      <td id=\"T_d3cfa_row0_col11\" class=\"data row0 col11\" >-0.436919</td>\n",
       "    </tr>\n",
       "    <tr>\n",
       "      <th id=\"T_d3cfa_level0_row1\" class=\"row_heading level0 row1\" >potencia</th>\n",
       "      <td id=\"T_d3cfa_row1_col0\" class=\"data row1 col0\" >-0.049268</td>\n",
       "      <td id=\"T_d3cfa_row1_col1\" class=\"data row1 col1\" >1.000000</td>\n",
       "      <td id=\"T_d3cfa_row1_col2\" class=\"data row1 col2\" >0.327083</td>\n",
       "      <td id=\"T_d3cfa_row1_col3\" class=\"data row1 col3\" >0.176248</td>\n",
       "      <td id=\"T_d3cfa_row1_col4\" class=\"data row1 col4\" >0.313268</td>\n",
       "      <td id=\"T_d3cfa_row1_col5\" class=\"data row1 col5\" >0.342631</td>\n",
       "      <td id=\"T_d3cfa_row1_col6\" class=\"data row1 col6\" >0.196835</td>\n",
       "      <td id=\"T_d3cfa_row1_col7\" class=\"data row1 col7\" >0.005675</td>\n",
       "      <td id=\"T_d3cfa_row1_col8\" class=\"data row1 col8\" >0.421124</td>\n",
       "      <td id=\"T_d3cfa_row1_col9\" class=\"data row1 col9\" >0.639144</td>\n",
       "      <td id=\"T_d3cfa_row1_col10\" class=\"data row1 col10\" >-0.058935</td>\n",
       "      <td id=\"T_d3cfa_row1_col11\" class=\"data row1 col11\" >0.507083</td>\n",
       "    </tr>\n",
       "    <tr>\n",
       "      <th id=\"T_d3cfa_level0_row2\" class=\"row_heading level0 row2\" >volante_regulable</th>\n",
       "      <td id=\"T_d3cfa_row2_col0\" class=\"data row2 col0\" >0.066722</td>\n",
       "      <td id=\"T_d3cfa_row2_col1\" class=\"data row2 col1\" >0.327083</td>\n",
       "      <td id=\"T_d3cfa_row2_col2\" class=\"data row2 col2\" >1.000000</td>\n",
       "      <td id=\"T_d3cfa_row2_col3\" class=\"data row2 col3\" >0.279971</td>\n",
       "      <td id=\"T_d3cfa_row2_col4\" class=\"data row2 col4\" >0.253139</td>\n",
       "      <td id=\"T_d3cfa_row2_col5\" class=\"data row2 col5\" >0.278393</td>\n",
       "      <td id=\"T_d3cfa_row2_col6\" class=\"data row2 col6\" >0.122332</td>\n",
       "      <td id=\"T_d3cfa_row2_col7\" class=\"data row2 col7\" >0.242236</td>\n",
       "      <td id=\"T_d3cfa_row2_col8\" class=\"data row2 col8\" >0.187779</td>\n",
       "      <td id=\"T_d3cfa_row2_col9\" class=\"data row2 col9\" >0.267769</td>\n",
       "      <td id=\"T_d3cfa_row2_col10\" class=\"data row2 col10\" >0.040584</td>\n",
       "      <td id=\"T_d3cfa_row2_col11\" class=\"data row2 col11\" >0.249389</td>\n",
       "    </tr>\n",
       "    <tr>\n",
       "      <th id=\"T_d3cfa_level0_row3\" class=\"row_heading level0 row3\" >aire_acondicionado</th>\n",
       "      <td id=\"T_d3cfa_row3_col0\" class=\"data row3 col0\" >0.013913</td>\n",
       "      <td id=\"T_d3cfa_row3_col1\" class=\"data row3 col1\" >0.176248</td>\n",
       "      <td id=\"T_d3cfa_row3_col2\" class=\"data row3 col2\" >0.279971</td>\n",
       "      <td id=\"T_d3cfa_row3_col3\" class=\"data row3 col3\" >1.000000</td>\n",
       "      <td id=\"T_d3cfa_row3_col4\" class=\"data row3 col4\" >0.141930</td>\n",
       "      <td id=\"T_d3cfa_row3_col5\" class=\"data row3 col5\" >0.250754</td>\n",
       "      <td id=\"T_d3cfa_row3_col6\" class=\"data row3 col6\" >0.099643</td>\n",
       "      <td id=\"T_d3cfa_row3_col7\" class=\"data row3 col7\" >0.333905</td>\n",
       "      <td id=\"T_d3cfa_row3_col8\" class=\"data row3 col8\" >0.167220</td>\n",
       "      <td id=\"T_d3cfa_row3_col9\" class=\"data row3 col9\" >0.216260</td>\n",
       "      <td id=\"T_d3cfa_row3_col10\" class=\"data row3 col10\" >-0.119234</td>\n",
       "      <td id=\"T_d3cfa_row3_col11\" class=\"data row3 col11\" >0.292468</td>\n",
       "    </tr>\n",
       "    <tr>\n",
       "      <th id=\"T_d3cfa_level0_row4\" class=\"row_heading level0 row4\" >camara_trasera</th>\n",
       "      <td id=\"T_d3cfa_row4_col0\" class=\"data row4 col0\" >0.001848</td>\n",
       "      <td id=\"T_d3cfa_row4_col1\" class=\"data row4 col1\" >0.313268</td>\n",
       "      <td id=\"T_d3cfa_row4_col2\" class=\"data row4 col2\" >0.253139</td>\n",
       "      <td id=\"T_d3cfa_row4_col3\" class=\"data row4 col3\" >0.141930</td>\n",
       "      <td id=\"T_d3cfa_row4_col4\" class=\"data row4 col4\" >1.000000</td>\n",
       "      <td id=\"T_d3cfa_row4_col5\" class=\"data row4 col5\" >0.198452</td>\n",
       "      <td id=\"T_d3cfa_row4_col6\" class=\"data row4 col6\" >0.126099</td>\n",
       "      <td id=\"T_d3cfa_row4_col7\" class=\"data row4 col7\" >0.060560</td>\n",
       "      <td id=\"T_d3cfa_row4_col8\" class=\"data row4 col8\" >0.161800</td>\n",
       "      <td id=\"T_d3cfa_row4_col9\" class=\"data row4 col9\" >0.253226</td>\n",
       "      <td id=\"T_d3cfa_row4_col10\" class=\"data row4 col10\" >0.016080</td>\n",
       "      <td id=\"T_d3cfa_row4_col11\" class=\"data row4 col11\" >0.198694</td>\n",
       "    </tr>\n",
       "    <tr>\n",
       "      <th id=\"T_d3cfa_level0_row5\" class=\"row_heading level0 row5\" >elevalunas_electrico</th>\n",
       "      <td id=\"T_d3cfa_row5_col0\" class=\"data row5 col0\" >0.045899</td>\n",
       "      <td id=\"T_d3cfa_row5_col1\" class=\"data row5 col1\" >0.342631</td>\n",
       "      <td id=\"T_d3cfa_row5_col2\" class=\"data row5 col2\" >0.278393</td>\n",
       "      <td id=\"T_d3cfa_row5_col3\" class=\"data row5 col3\" >0.250754</td>\n",
       "      <td id=\"T_d3cfa_row5_col4\" class=\"data row5 col4\" >0.198452</td>\n",
       "      <td id=\"T_d3cfa_row5_col5\" class=\"data row5 col5\" >1.000000</td>\n",
       "      <td id=\"T_d3cfa_row5_col6\" class=\"data row5 col6\" >0.224810</td>\n",
       "      <td id=\"T_d3cfa_row5_col7\" class=\"data row5 col7\" >0.201798</td>\n",
       "      <td id=\"T_d3cfa_row5_col8\" class=\"data row5 col8\" >0.288508</td>\n",
       "      <td id=\"T_d3cfa_row5_col9\" class=\"data row5 col9\" >0.263448</td>\n",
       "      <td id=\"T_d3cfa_row5_col10\" class=\"data row5 col10\" >-0.063025</td>\n",
       "      <td id=\"T_d3cfa_row5_col11\" class=\"data row5 col11\" >0.319036</td>\n",
       "    </tr>\n",
       "    <tr>\n",
       "      <th id=\"T_d3cfa_level0_row6\" class=\"row_heading level0 row6\" >bluetooth</th>\n",
       "      <td id=\"T_d3cfa_row6_col0\" class=\"data row6 col0\" >-0.026247</td>\n",
       "      <td id=\"T_d3cfa_row6_col1\" class=\"data row6 col1\" >0.196835</td>\n",
       "      <td id=\"T_d3cfa_row6_col2\" class=\"data row6 col2\" >0.122332</td>\n",
       "      <td id=\"T_d3cfa_row6_col3\" class=\"data row6 col3\" >0.099643</td>\n",
       "      <td id=\"T_d3cfa_row6_col4\" class=\"data row6 col4\" >0.126099</td>\n",
       "      <td id=\"T_d3cfa_row6_col5\" class=\"data row6 col5\" >0.224810</td>\n",
       "      <td id=\"T_d3cfa_row6_col6\" class=\"data row6 col6\" >1.000000</td>\n",
       "      <td id=\"T_d3cfa_row6_col7\" class=\"data row6 col7\" >0.109626</td>\n",
       "      <td id=\"T_d3cfa_row6_col8\" class=\"data row6 col8\" >0.072151</td>\n",
       "      <td id=\"T_d3cfa_row6_col9\" class=\"data row6 col9\" >0.173579</td>\n",
       "      <td id=\"T_d3cfa_row6_col10\" class=\"data row6 col10\" >-0.034565</td>\n",
       "      <td id=\"T_d3cfa_row6_col11\" class=\"data row6 col11\" >0.170293</td>\n",
       "    </tr>\n",
       "    <tr>\n",
       "      <th id=\"T_d3cfa_level0_row7\" class=\"row_heading level0 row7\" >gps</th>\n",
       "      <td id=\"T_d3cfa_row7_col0\" class=\"data row7 col0\" >0.154802</td>\n",
       "      <td id=\"T_d3cfa_row7_col1\" class=\"data row7 col1\" >0.005675</td>\n",
       "      <td id=\"T_d3cfa_row7_col2\" class=\"data row7 col2\" >0.242236</td>\n",
       "      <td id=\"T_d3cfa_row7_col3\" class=\"data row7 col3\" >0.333905</td>\n",
       "      <td id=\"T_d3cfa_row7_col4\" class=\"data row7 col4\" >0.060560</td>\n",
       "      <td id=\"T_d3cfa_row7_col5\" class=\"data row7 col5\" >0.201798</td>\n",
       "      <td id=\"T_d3cfa_row7_col6\" class=\"data row7 col6\" >0.109626</td>\n",
       "      <td id=\"T_d3cfa_row7_col7\" class=\"data row7 col7\" >1.000000</td>\n",
       "      <td id=\"T_d3cfa_row7_col8\" class=\"data row7 col8\" >-0.062428</td>\n",
       "      <td id=\"T_d3cfa_row7_col9\" class=\"data row7 col9\" >-0.009385</td>\n",
       "      <td id=\"T_d3cfa_row7_col10\" class=\"data row7 col10\" >0.059186</td>\n",
       "      <td id=\"T_d3cfa_row7_col11\" class=\"data row7 col11\" >0.043256</td>\n",
       "    </tr>\n",
       "    <tr>\n",
       "      <th id=\"T_d3cfa_level0_row8\" class=\"row_heading level0 row8\" >alerta_lim_velocidad</th>\n",
       "      <td id=\"T_d3cfa_row8_col0\" class=\"data row8 col0\" >-0.034530</td>\n",
       "      <td id=\"T_d3cfa_row8_col1\" class=\"data row8 col1\" >0.421124</td>\n",
       "      <td id=\"T_d3cfa_row8_col2\" class=\"data row8 col2\" >0.187779</td>\n",
       "      <td id=\"T_d3cfa_row8_col3\" class=\"data row8 col3\" >0.167220</td>\n",
       "      <td id=\"T_d3cfa_row8_col4\" class=\"data row8 col4\" >0.161800</td>\n",
       "      <td id=\"T_d3cfa_row8_col5\" class=\"data row8 col5\" >0.288508</td>\n",
       "      <td id=\"T_d3cfa_row8_col6\" class=\"data row8 col6\" >0.072151</td>\n",
       "      <td id=\"T_d3cfa_row8_col7\" class=\"data row8 col7\" >-0.062428</td>\n",
       "      <td id=\"T_d3cfa_row8_col8\" class=\"data row8 col8\" >1.000000</td>\n",
       "      <td id=\"T_d3cfa_row8_col9\" class=\"data row8 col9\" >0.381181</td>\n",
       "      <td id=\"T_d3cfa_row8_col10\" class=\"data row8 col10\" >-0.085842</td>\n",
       "      <td id=\"T_d3cfa_row8_col11\" class=\"data row8 col11\" >0.361532</td>\n",
       "    </tr>\n",
       "    <tr>\n",
       "      <th id=\"T_d3cfa_level0_row9\" class=\"row_heading level0 row9\" >precio</th>\n",
       "      <td id=\"T_d3cfa_row9_col0\" class=\"data row9 col0\" >-0.408625</td>\n",
       "      <td id=\"T_d3cfa_row9_col1\" class=\"data row9 col1\" >0.639144</td>\n",
       "      <td id=\"T_d3cfa_row9_col2\" class=\"data row9 col2\" >0.267769</td>\n",
       "      <td id=\"T_d3cfa_row9_col3\" class=\"data row9 col3\" >0.216260</td>\n",
       "      <td id=\"T_d3cfa_row9_col4\" class=\"data row9 col4\" >0.253226</td>\n",
       "      <td id=\"T_d3cfa_row9_col5\" class=\"data row9 col5\" >0.263448</td>\n",
       "      <td id=\"T_d3cfa_row9_col6\" class=\"data row9 col6\" >0.173579</td>\n",
       "      <td id=\"T_d3cfa_row9_col7\" class=\"data row9 col7\" >-0.009385</td>\n",
       "      <td id=\"T_d3cfa_row9_col8\" class=\"data row9 col8\" >0.381181</td>\n",
       "      <td id=\"T_d3cfa_row9_col9\" class=\"data row9 col9\" >1.000000</td>\n",
       "      <td id=\"T_d3cfa_row9_col10\" class=\"data row9 col10\" >-0.285484</td>\n",
       "      <td id=\"T_d3cfa_row9_col11\" class=\"data row9 col11\" >0.808817</td>\n",
       "    </tr>\n",
       "    <tr>\n",
       "      <th id=\"T_d3cfa_level0_row10\" class=\"row_heading level0 row10\" >antiguedad</th>\n",
       "      <td id=\"T_d3cfa_row10_col0\" class=\"data row10 col0\" >0.316336</td>\n",
       "      <td id=\"T_d3cfa_row10_col1\" class=\"data row10 col1\" >-0.058935</td>\n",
       "      <td id=\"T_d3cfa_row10_col2\" class=\"data row10 col2\" >0.040584</td>\n",
       "      <td id=\"T_d3cfa_row10_col3\" class=\"data row10 col3\" >-0.119234</td>\n",
       "      <td id=\"T_d3cfa_row10_col4\" class=\"data row10 col4\" >0.016080</td>\n",
       "      <td id=\"T_d3cfa_row10_col5\" class=\"data row10 col5\" >-0.063025</td>\n",
       "      <td id=\"T_d3cfa_row10_col6\" class=\"data row10 col6\" >-0.034565</td>\n",
       "      <td id=\"T_d3cfa_row10_col7\" class=\"data row10 col7\" >0.059186</td>\n",
       "      <td id=\"T_d3cfa_row10_col8\" class=\"data row10 col8\" >-0.085842</td>\n",
       "      <td id=\"T_d3cfa_row10_col9\" class=\"data row10 col9\" >-0.285484</td>\n",
       "      <td id=\"T_d3cfa_row10_col10\" class=\"data row10 col10\" >1.000000</td>\n",
       "      <td id=\"T_d3cfa_row10_col11\" class=\"data row10 col11\" >-0.397451</td>\n",
       "    </tr>\n",
       "    <tr>\n",
       "      <th id=\"T_d3cfa_level0_row11\" class=\"row_heading level0 row11\" >log_precio</th>\n",
       "      <td id=\"T_d3cfa_row11_col0\" class=\"data row11 col0\" >-0.436919</td>\n",
       "      <td id=\"T_d3cfa_row11_col1\" class=\"data row11 col1\" >0.507083</td>\n",
       "      <td id=\"T_d3cfa_row11_col2\" class=\"data row11 col2\" >0.249389</td>\n",
       "      <td id=\"T_d3cfa_row11_col3\" class=\"data row11 col3\" >0.292468</td>\n",
       "      <td id=\"T_d3cfa_row11_col4\" class=\"data row11 col4\" >0.198694</td>\n",
       "      <td id=\"T_d3cfa_row11_col5\" class=\"data row11 col5\" >0.319036</td>\n",
       "      <td id=\"T_d3cfa_row11_col6\" class=\"data row11 col6\" >0.170293</td>\n",
       "      <td id=\"T_d3cfa_row11_col7\" class=\"data row11 col7\" >0.043256</td>\n",
       "      <td id=\"T_d3cfa_row11_col8\" class=\"data row11 col8\" >0.361532</td>\n",
       "      <td id=\"T_d3cfa_row11_col9\" class=\"data row11 col9\" >0.808817</td>\n",
       "      <td id=\"T_d3cfa_row11_col10\" class=\"data row11 col10\" >-0.397451</td>\n",
       "      <td id=\"T_d3cfa_row11_col11\" class=\"data row11 col11\" >1.000000</td>\n",
       "    </tr>\n",
       "  </tbody>\n",
       "</table>\n"
      ],
      "text/plain": [
       "<pandas.io.formats.style.Styler at 0x2aa89b3d1f0>"
      ]
     },
     "execution_count": 66,
     "metadata": {},
     "output_type": "execute_result"
    }
   ],
   "source": [
    "corr.style.background_gradient(cmap='coolwarm')"
   ]
  },
  {
   "cell_type": "code",
   "execution_count": 67,
   "metadata": {},
   "outputs": [
    {
     "name": "stdout",
     "output_type": "stream",
     "text": [
      "<class 'pandas.core.frame.DataFrame'>\n",
      "Index: 4813 entries, 0 to 4842\n",
      "Data columns (total 17 columns):\n",
      " #   Column                Non-Null Count  Dtype  \n",
      "---  ------                --------------  -----  \n",
      " 0   modelo                4813 non-null   object \n",
      " 1   km                    4813 non-null   float64\n",
      " 2   potencia              4813 non-null   float64\n",
      " 3   combustible           4813 non-null   object \n",
      " 4   color                 4813 non-null   object \n",
      " 5   tipo_coche            4813 non-null   object \n",
      " 6   volante_regulable     4813 non-null   bool   \n",
      " 7   aire_acondicionado    4813 non-null   bool   \n",
      " 8   camara_trasera        4813 non-null   bool   \n",
      " 9   elevalunas_electrico  4813 non-null   bool   \n",
      " 10  bluetooth             4813 non-null   bool   \n",
      " 11  gps                   4813 non-null   bool   \n",
      " 12  alerta_lim_velocidad  4813 non-null   bool   \n",
      " 13  precio                4813 non-null   float64\n",
      " 14  antiguedad            4813 non-null   float64\n",
      " 15  serie                 4813 non-null   object \n",
      " 16  log_precio            4813 non-null   float64\n",
      "dtypes: bool(7), float64(5), object(5)\n",
      "memory usage: 575.6+ KB\n"
     ]
    }
   ],
   "source": [
    "df_bmw9.info()"
   ]
  },
  {
   "cell_type": "markdown",
   "metadata": {},
   "source": [
    "## Separo mis Variables en 3 grupos(numéricas, booleanas, categóricas)"
   ]
  },
  {
   "cell_type": "code",
   "execution_count": 68,
   "metadata": {},
   "outputs": [],
   "source": [
    "target=['precio']\n",
    "def get_list_var(dataset):\n",
    "    list_numbers=[]\n",
    "    list_booleans=[]\n",
    "    list_categories=[]\n",
    "\n",
    "    for i in dataset:\n",
    "      if (i not in target) and (dataset[i].dtype.kind == 'i' or dataset[i].dtype.kind == 'f') and (len(dataset[i].unique()) != 2):\n",
    "        list_numbers.append(i)\n",
    "      elif (i not in target) and (dataset[i].dtype.kind == 'b') and (len(dataset[i].unique())==2):\n",
    "        list_booleans.append(i)\n",
    "      elif (dataset[i].dtype.kind != 'o' and (i not in target)):\n",
    "        list_categories.append(i)\n",
    "\n",
    "    return list_numbers, list_booleans, list_categories"
   ]
  },
  {
   "cell_type": "code",
   "execution_count": 69,
   "metadata": {},
   "outputs": [],
   "source": [
    "l_numericas, l_booleanos, l_categoricas = get_list_var(df_bmw9)"
   ]
  },
  {
   "cell_type": "markdown",
   "metadata": {},
   "source": [
    "## Cambiaremos nuestras variables Booleanas a \"0 y 1\""
   ]
  },
  {
   "cell_type": "code",
   "execution_count": 70,
   "metadata": {},
   "outputs": [
    {
     "data": {
      "text/plain": [
       "['km', 'potencia', 'antiguedad', 'log_precio']"
      ]
     },
     "execution_count": 70,
     "metadata": {},
     "output_type": "execute_result"
    }
   ],
   "source": [
    "l_numericas"
   ]
  },
  {
   "cell_type": "code",
   "execution_count": 71,
   "metadata": {},
   "outputs": [
    {
     "data": {
      "image/png": "[encoded data removed]",
      "text/plain": [
       "<Figure size 640x480 with 1 Axes>"
      ]
     },
     "metadata": {},
     "output_type": "display_data"
    },
    {
     "data": {
      "image/png": "[encoded data removed]",
      "text/plain": [
       "<Figure size 640x480 with 1 Axes>"
      ]
     },
     "metadata": {},
     "output_type": "display_data"
    },
    {
     "data": {
      "image/png": "[encoded data removed]",
      "text/plain": [
       "<Figure size 640x480 with 1 Axes>"
      ]
     },
     "metadata": {},
     "output_type": "display_data"
    },
    {
     "data": {
      "image/png": "[encoded data removed]",
      "text/plain": [
       "<Figure size 640x480 with 1 Axes>"
      ]
     },
     "metadata": {},
     "output_type": "display_data"
    }
   ],
   "source": [
    "for i in l_numericas:\n",
    "  df_bmw9.hist(i)"
   ]
  },
  {
   "cell_type": "markdown",
   "metadata": {},
   "source": [
    "## Hacemos gráficos de relación para nuestras variables categóricas"
   ]
  },
  {
   "cell_type": "code",
   "execution_count": 73,
   "metadata": {},
   "outputs": [
    {
     "data": {
      "image/png": "[encoded data removed]",
      "text/plain": [
       "<Figure size 500x500 with 1 Axes>"
      ]
     },
     "metadata": {},
     "output_type": "display_data"
    },
    {
     "data": {
      "image/png": "[encoded data removed]",
      "text/plain": [
       "<Figure size 500x500 with 1 Axes>"
      ]
     },
     "metadata": {},
     "output_type": "display_data"
    },
    {
     "data": {
      "image/png": "[encoded data removed]",
      "text/plain": [
       "<Figure size 500x500 with 1 Axes>"
      ]
     },
     "metadata": {},
     "output_type": "display_data"
    },
    {
     "data": {
      "image/png": "[encoded data removed]",
      "text/plain": [
       "<Figure size 500x500 with 1 Axes>"
      ]
     },
     "metadata": {},
     "output_type": "display_data"
    },
    {
     "data": {
      "image/png": "[encoded data removed]",
      "text/plain": [
       "<Figure size 500x500 with 1 Axes>"
      ]
     },
     "metadata": {},
     "output_type": "display_data"
    }
   ],
   "source": [
    "for i in l_categoricas:\n",
    "  sns.relplot(data=df_bmw9, x=i, y=\"precio\")\n",
    "  plt.xticks(rotation=45)\n",
    "plt.show()"
   ]
  },
  {
   "cell_type": "code",
   "execution_count": 74,
   "metadata": {},
   "outputs": [],
   "source": [
    "#Observamos 2 outlaiers repetidos en nuestras gráficas, los revisamos a detalle\n",
    "#df_bmw9[(df_bmw9['precio']>80000) & (df_bmw9['combustible']=='diesel')]\n",
    "#Los eliminamos ya que no son coherentes precio y km\n",
    "df_bmw9.drop(df_bmw9[(df_bmw9['precio']>80000) & (df_bmw9['combustible']=='diesel')].index, inplace=True)"
   ]
  },
  {
   "cell_type": "code",
   "execution_count": 75,
   "metadata": {},
   "outputs": [
    {
     "name": "stdout",
     "output_type": "stream",
     "text": [
      "<class 'pandas.core.frame.DataFrame'>\n",
      "Index: 4811 entries, 0 to 4842\n",
      "Data columns (total 17 columns):\n",
      " #   Column                Non-Null Count  Dtype  \n",
      "---  ------                --------------  -----  \n",
      " 0   modelo                4811 non-null   object \n",
      " 1   km                    4811 non-null   float64\n",
      " 2   potencia              4811 non-null   float64\n",
      " 3   combustible           4811 non-null   object \n",
      " 4   color                 4811 non-null   object \n",
      " 5   tipo_coche            4811 non-null   object \n",
      " 6   volante_regulable     4811 non-null   bool   \n",
      " 7   aire_acondicionado    4811 non-null   bool   \n",
      " 8   camara_trasera        4811 non-null   bool   \n",
      " 9   elevalunas_electrico  4811 non-null   bool   \n",
      " 10  bluetooth             4811 non-null   bool   \n",
      " 11  gps                   4811 non-null   bool   \n",
      " 12  alerta_lim_velocidad  4811 non-null   bool   \n",
      " 13  precio                4811 non-null   float64\n",
      " 14  antiguedad            4811 non-null   float64\n",
      " 15  serie                 4811 non-null   object \n",
      " 16  log_precio            4811 non-null   float64\n",
      "dtypes: bool(7), float64(5), object(5)\n",
      "memory usage: 446.3+ KB\n"
     ]
    }
   ],
   "source": [
    "df_bmw9.info()"
   ]
  },
  {
   "cell_type": "code",
   "execution_count": 76,
   "metadata": {},
   "outputs": [
    {
     "data": {
      "text/html": [
       "<div>\n",
       "<style scoped>\n",
       "    .dataframe tbody tr th:only-of-type {\n",
       "        vertical-align: middle;\n",
       "    }\n",
       "\n",
       "    .dataframe tbody tr th {\n",
       "        vertical-align: top;\n",
       "    }\n",
       "\n",
       "    .dataframe thead th {\n",
       "        text-align: right;\n",
       "    }\n",
       "</style>\n",
       "<table border=\"1\" class=\"dataframe\">\n",
       "  <thead>\n",
       "    <tr style=\"text-align: right;\">\n",
       "      <th></th>\n",
       "      <th>modelo</th>\n",
       "      <th>km</th>\n",
       "      <th>potencia</th>\n",
       "      <th>combustible</th>\n",
       "      <th>color</th>\n",
       "      <th>tipo_coche</th>\n",
       "      <th>volante_regulable</th>\n",
       "      <th>aire_acondicionado</th>\n",
       "      <th>camara_trasera</th>\n",
       "      <th>elevalunas_electrico</th>\n",
       "      <th>bluetooth</th>\n",
       "      <th>gps</th>\n",
       "      <th>alerta_lim_velocidad</th>\n",
       "      <th>precio</th>\n",
       "      <th>antiguedad</th>\n",
       "      <th>serie</th>\n",
       "      <th>log_precio</th>\n",
       "    </tr>\n",
       "  </thead>\n",
       "  <tbody>\n",
       "    <tr>\n",
       "      <th>0</th>\n",
       "      <td>118</td>\n",
       "      <td>140411.0</td>\n",
       "      <td>100.0</td>\n",
       "      <td>diesel</td>\n",
       "      <td>black</td>\n",
       "      <td>sin tipo</td>\n",
       "      <td>True</td>\n",
       "      <td>True</td>\n",
       "      <td>False</td>\n",
       "      <td>True</td>\n",
       "      <td>False</td>\n",
       "      <td>True</td>\n",
       "      <td>False</td>\n",
       "      <td>11300.0</td>\n",
       "      <td>5.920548</td>\n",
       "      <td>Serie 1</td>\n",
       "      <td>4.053078</td>\n",
       "    </tr>\n",
       "  </tbody>\n",
       "</table>\n",
       "</div>"
      ],
      "text/plain": [
       "  modelo        km  potencia combustible  color tipo_coche  volante_regulable  \\\n",
       "0    118  140411.0     100.0      diesel  black   sin tipo               True   \n",
       "\n",
       "   aire_acondicionado  camara_trasera  elevalunas_electrico  bluetooth   gps  \\\n",
       "0                True           False                  True      False  True   \n",
       "\n",
       "   alerta_lim_velocidad   precio  antiguedad    serie  log_precio  \n",
       "0                 False  11300.0    5.920548  Serie 1    4.053078  "
      ]
     },
     "execution_count": 76,
     "metadata": {},
     "output_type": "execute_result"
    }
   ],
   "source": [
    "df_bmw9.head(1)"
   ]
  },
  {
   "cell_type": "code",
   "execution_count": 77,
   "metadata": {},
   "outputs": [],
   "source": [
    "df_bmw10= df_bmw9.copy()"
   ]
  },
  {
   "cell_type": "code",
   "execution_count": 78,
   "metadata": {},
   "outputs": [
    {
     "data": {
      "text/plain": [
       "combustible\n",
       "diesel           4609\n",
       "petrol            191\n",
       "hybrid_petrol       8\n",
       "electro             3\n",
       "Name: count, dtype: int64"
      ]
     },
     "execution_count": 78,
     "metadata": {},
     "output_type": "execute_result"
    }
   ],
   "source": [
    "df_bmw10['combustible'].value_counts()"
   ]
  },
  {
   "cell_type": "code",
   "execution_count": 79,
   "metadata": {},
   "outputs": [
    {
     "data": {
      "text/plain": [
       "color\n",
       "black     1928\n",
       "grey      1066\n",
       "blue       642\n",
       "white      479\n",
       "brown      302\n",
       "silver     290\n",
       "red         47\n",
       "beige       37\n",
       "green       14\n",
       "orange       6\n",
       "Name: count, dtype: int64"
      ]
     },
     "execution_count": 79,
     "metadata": {},
     "output_type": "execute_result"
    }
   ],
   "source": [
    "df_bmw10['color'].value_counts()"
   ]
  },
  {
   "cell_type": "markdown",
   "metadata": {},
   "source": [
    "## Agrupamos color en \"serie\" y \"personalizados\", basandonos en que los de serie son los que habitalmente no te cobran como un extra y los personalizados son los colores diferentes a los de serie y por ende aplica un sobrecargo(lo cual nos da la pauta para darles valor diferente)"
   ]
  },
  {
   "cell_type": "code",
   "execution_count": 80,
   "metadata": {},
   "outputs": [],
   "source": [
    "#Cambiamos los valores('black','white','red') a serie y los demás a personalizado\n",
    "df_bmw10['group_color'] = np.where((df_bmw10['color'] =='black') | (df_bmw10['color'] =='white') | (df_bmw10['color'] =='red'), 'serie', 'personalizado')"
   ]
  },
  {
   "cell_type": "code",
   "execution_count": 81,
   "metadata": {},
   "outputs": [
    {
     "data": {
      "text/plain": [
       "group_color\n",
       "serie            2454\n",
       "personalizado    2357\n",
       "Name: count, dtype: int64"
      ]
     },
     "execution_count": 81,
     "metadata": {},
     "output_type": "execute_result"
    }
   ],
   "source": [
    "df_bmw10['group_color'].value_counts()"
   ]
  },
  {
   "cell_type": "markdown",
   "metadata": {},
   "source": [
    "## Para la variable combustible, color que lo agrupamos en group_color y la variable serie utilizo ordinalEncoder ya que le daré peso a mis items"
   ]
  },
  {
   "cell_type": "code",
   "execution_count": null,
   "metadata": {},
   "outputs": [],
   "source": []
  }
 ],
 "metadata": {
  "kernelspec": {
   "display_name": "Python 3",
   "language": "python",
   "name": "python3"
  },
  "language_info": {
   "codemirror_mode": {
    "name": "ipython",
    "version": 3
   },
   "file_extension": ".py",
   "mimetype": "text/x-python",
   "name": "python",
   "nbconvert_exporter": "python",
   "pygments_lexer": "ipython3",
   "version": "3.12.3"
  }
 },
 "nbformat": 4,
 "nbformat_minor": 2
}
