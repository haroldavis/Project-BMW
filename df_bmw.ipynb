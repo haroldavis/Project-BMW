{
 "cells": [
  {
   "cell_type": "markdown",
   "metadata": {},
   "source": [
    "# Entregable Data Preparation"
   ]
  },
  {
   "cell_type": "code",
   "execution_count": 3,
   "metadata": {},
   "outputs": [],
   "source": [
    "#importamos librerías y herramientas\n",
    "import pandas as pd\n",
    "import numpy as np\n",
    "import matplotlib.pyplot as plt\n",
    "import seaborn as sns\n",
    "from sklearn.preprocessing import LabelEncoder,MinMaxScaler, OrdinalEncoder"
   ]
  },
  {
   "cell_type": "markdown",
   "metadata": {},
   "source": [
    "###Creamos el Data Frame y lo nombramos _df_bmw_"
   ]
  },
  {
   "cell_type": "code",
   "execution_count": 4,
   "metadata": {},
   "outputs": [],
   "source": [
    "df_bmw = pd.read_csv(\"./data/bmw_pricing_v3.csv\")"
   ]
  },
  {
   "cell_type": "code",
   "execution_count": 5,
   "metadata": {},
   "outputs": [
    {
     "name": "stdout",
     "output_type": "stream",
     "text": [
      "<class 'pandas.core.frame.DataFrame'>\n",
      "RangeIndex: 4843 entries, 0 to 4842\n",
      "Data columns (total 18 columns):\n",
      " #   Column                       Non-Null Count  Dtype  \n",
      "---  ------                       --------------  -----  \n",
      " 0   marca                        3873 non-null   object \n",
      " 1   modelo                       4840 non-null   object \n",
      " 2   km                           4841 non-null   float64\n",
      " 3   potencia                     4842 non-null   float64\n",
      " 4   fecha_registro               2420 non-null   object \n",
      " 5   tipo_gasolina                4838 non-null   object \n",
      " 6   color                        4398 non-null   object \n",
      " 7   tipo_coche                   3383 non-null   object \n",
      " 8   volante_regulable            4839 non-null   object \n",
      " 9   aire_acondicionado           4357 non-null   object \n",
      " 10  camara_trasera               4841 non-null   object \n",
      " 11  asientos_traseros_plegables  1452 non-null   object \n",
      " 12  elevalunas_electrico         4841 non-null   object \n",
      " 13  bluetooth                    4115 non-null   object \n",
      " 14  gps                          4843 non-null   bool   \n",
      " 15  alerta_lim_velocidad         4115 non-null   object \n",
      " 16  precio                       4837 non-null   float64\n",
      " 17  fecha_venta                  4842 non-null   object \n",
      "dtypes: bool(1), float64(3), object(14)\n",
      "memory usage: 648.1+ KB\n"
     ]
    }
   ],
   "source": [
    "# ESTRUCTURA DE DATOS\n",
    "df_bmw.info()"
   ]
  },
  {
   "cell_type": "markdown",
   "metadata": {},
   "source": [
    "###Revisamos si hay duplicados para eliminar"
   ]
  },
  {
   "cell_type": "code",
   "execution_count": 6,
   "metadata": {},
   "outputs": [
    {
     "data": {
      "text/html": [
       "<div>\n",
       "<style scoped>\n",
       "    .dataframe tbody tr th:only-of-type {\n",
       "        vertical-align: middle;\n",
       "    }\n",
       "\n",
       "    .dataframe tbody tr th {\n",
       "        vertical-align: top;\n",
       "    }\n",
       "\n",
       "    .dataframe thead th {\n",
       "        text-align: right;\n",
       "    }\n",
       "</style>\n",
       "<table border=\"1\" class=\"dataframe\">\n",
       "  <thead>\n",
       "    <tr style=\"text-align: right;\">\n",
       "      <th></th>\n",
       "      <th>marca</th>\n",
       "      <th>modelo</th>\n",
       "      <th>km</th>\n",
       "      <th>potencia</th>\n",
       "      <th>fecha_registro</th>\n",
       "      <th>tipo_gasolina</th>\n",
       "      <th>color</th>\n",
       "      <th>tipo_coche</th>\n",
       "      <th>volante_regulable</th>\n",
       "      <th>aire_acondicionado</th>\n",
       "      <th>camara_trasera</th>\n",
       "      <th>asientos_traseros_plegables</th>\n",
       "      <th>elevalunas_electrico</th>\n",
       "      <th>bluetooth</th>\n",
       "      <th>gps</th>\n",
       "      <th>alerta_lim_velocidad</th>\n",
       "      <th>precio</th>\n",
       "      <th>fecha_venta</th>\n",
       "    </tr>\n",
       "  </thead>\n",
       "  <tbody>\n",
       "  </tbody>\n",
       "</table>\n",
       "</div>"
      ],
      "text/plain": [
       "Empty DataFrame\n",
       "Columns: [marca, modelo, km, potencia, fecha_registro, tipo_gasolina, color, tipo_coche, volante_regulable, aire_acondicionado, camara_trasera, asientos_traseros_plegables, elevalunas_electrico, bluetooth, gps, alerta_lim_velocidad, precio, fecha_venta]\n",
       "Index: []"
      ]
     },
     "execution_count": 6,
     "metadata": {},
     "output_type": "execute_result"
    }
   ],
   "source": [
    "df_bmw[df_bmw.duplicated(keep=False)] #No hay duplicados\n",
    "#Para comprobar que no hay duplicados hago un conteo inicial de mis filas, utilizo drop_duplicated y vuelvo a contar filas\n",
    "# len(imdb)\n",
    "# imdb.drop_duplicated(inplace=True)\n",
    "# len(imdb)"
   ]
  },
  {
   "cell_type": "markdown",
   "metadata": {},
   "source": [
    "###Iniciamos con los  cambios, previa copia"
   ]
  },
  {
   "cell_type": "code",
   "execution_count": 7,
   "metadata": {},
   "outputs": [],
   "source": [
    "df_bmw2 = df_bmw.copy()"
   ]
  },
  {
   "cell_type": "code",
   "execution_count": 8,
   "metadata": {},
   "outputs": [
    {
     "data": {
      "text/plain": [
       "marca                           970\n",
       "modelo                            3\n",
       "km                                2\n",
       "potencia                          1\n",
       "fecha_registro                 2423\n",
       "tipo_gasolina                     5\n",
       "color                           445\n",
       "tipo_coche                     1460\n",
       "volante_regulable                 4\n",
       "aire_acondicionado              486\n",
       "camara_trasera                    2\n",
       "asientos_traseros_plegables    3391\n",
       "elevalunas_electrico              2\n",
       "bluetooth                       728\n",
       "gps                               0\n",
       "alerta_lim_velocidad            728\n",
       "precio                            6\n",
       "fecha_venta                       1\n",
       "dtype: int64"
      ]
     },
     "execution_count": 8,
     "metadata": {},
     "output_type": "execute_result"
    }
   ],
   "source": [
    "df_bmw2.isnull().sum()"
   ]
  },
  {
   "cell_type": "code",
   "execution_count": 9,
   "metadata": {},
   "outputs": [],
   "source": [
    "#Observamos nulos inferiores al 1% en las columnas, las eliminamos\n",
    "for i in df_bmw2:\n",
    "  if df_bmw2[i].isnull().sum() < 7:\n",
    "   df_bmw2.dropna(subset=[i],inplace=True)"
   ]
  },
  {
   "cell_type": "markdown",
   "metadata": {},
   "source": [
    "###Hacemos una copia para revisar variable por variable"
   ]
  },
  {
   "cell_type": "code",
   "execution_count": 10,
   "metadata": {},
   "outputs": [],
   "source": [
    "#Empezamos a revisar las variables\n",
    "df_bmw3 = df_bmw2.copy()"
   ]
  },
  {
   "cell_type": "code",
   "execution_count": 11,
   "metadata": {},
   "outputs": [
    {
     "name": "stdout",
     "output_type": "stream",
     "text": [
      "<class 'pandas.core.frame.DataFrame'>\n",
      "Index: 4817 entries, 0 to 4842\n",
      "Data columns (total 18 columns):\n",
      " #   Column                       Non-Null Count  Dtype  \n",
      "---  ------                       --------------  -----  \n",
      " 0   marca                        3852 non-null   object \n",
      " 1   modelo                       4817 non-null   object \n",
      " 2   km                           4817 non-null   float64\n",
      " 3   potencia                     4817 non-null   float64\n",
      " 4   fecha_registro               2408 non-null   object \n",
      " 5   tipo_gasolina                4817 non-null   object \n",
      " 6   color                        4375 non-null   object \n",
      " 7   tipo_coche                   3368 non-null   object \n",
      " 8   volante_regulable            4817 non-null   object \n",
      " 9   aire_acondicionado           4335 non-null   object \n",
      " 10  camara_trasera               4817 non-null   object \n",
      " 11  asientos_traseros_plegables  1444 non-null   object \n",
      " 12  elevalunas_electrico         4817 non-null   object \n",
      " 13  bluetooth                    4092 non-null   object \n",
      " 14  gps                          4817 non-null   bool   \n",
      " 15  alerta_lim_velocidad         4092 non-null   object \n",
      " 16  precio                       4817 non-null   float64\n",
      " 17  fecha_venta                  4817 non-null   object \n",
      "dtypes: bool(1), float64(3), object(14)\n",
      "memory usage: 682.1+ KB\n"
     ]
    }
   ],
   "source": [
    "df_bmw3.info()"
   ]
  },
  {
   "cell_type": "markdown",
   "metadata": {},
   "source": [
    "###Variable **Marca**\n",
    "Observamos que tiene solo dos únicos valores y como sabemos que el dataset es de BMW, los nulos lo completamos con la moda y/o la misma marca. Al tratarse de toda la columna el mismo valor, decidimos eliminarla."
   ]
  },
  {
   "cell_type": "code",
   "execution_count": 12,
   "metadata": {},
   "outputs": [
    {
     "name": "stderr",
     "output_type": "stream",
     "text": [
      "C:\\Users\\rafas\\AppData\\Local\\Temp\\ipykernel_15088\\338064117.py:4: FutureWarning: A value is trying to be set on a copy of a DataFrame or Series through chained assignment using an inplace method.\n",
      "The behavior will change in pandas 3.0. This inplace method will never work because the intermediate object on which we are setting values always behaves as a copy.\n",
      "\n",
      "For example, when doing 'df[col].method(value, inplace=True)', try using 'df.method({col: value}, inplace=True)' or df[col] = df[col].method(value) instead, to perform the operation inplace on the original object.\n",
      "\n",
      "\n",
      "  df_bmw3['marca'].fillna(df_bmw3['marca'].mode()[0], inplace=True) #Completo los nulos con la moda\n"
     ]
    }
   ],
   "source": [
    "#df_bmw3['marca'].isnull().sum()\n",
    "#df_bmw3['marca'].unique()\n",
    "#df_bmw3['marca'].value_counts(normalize=True)\n",
    "df_bmw3['marca'].fillna(df_bmw3['marca'].mode()[0], inplace=True) #Completo los nulos con la moda"
   ]
  },
  {
   "cell_type": "code",
   "execution_count": 13,
   "metadata": {},
   "outputs": [],
   "source": [
    "del(df_bmw3['marca'])"
   ]
  },
  {
   "cell_type": "markdown",
   "metadata": {},
   "source": [
    "###Variable **Color**\n",
    "Observamos su distribución con _normalize_ y lo reemplazamos los nulos con la moda"
   ]
  },
  {
   "cell_type": "code",
   "execution_count": 14,
   "metadata": {},
   "outputs": [
    {
     "name": "stderr",
     "output_type": "stream",
     "text": [
      "C:\\Users\\rafas\\AppData\\Local\\Temp\\ipykernel_15088\\881180119.py:3: FutureWarning: A value is trying to be set on a copy of a DataFrame or Series through chained assignment using an inplace method.\n",
      "The behavior will change in pandas 3.0. This inplace method will never work because the intermediate object on which we are setting values always behaves as a copy.\n",
      "\n",
      "For example, when doing 'df[col].method(value, inplace=True)', try using 'df.method({col: value}, inplace=True)' or df[col] = df[col].method(value) instead, to perform the operation inplace on the original object.\n",
      "\n",
      "\n",
      "  df_bmw3['color'].fillna(df_bmw3['color'].mode()[0], inplace=True)\n"
     ]
    }
   ],
   "source": [
    "df_bmw3[df_bmw3['color'].isnull()]\n",
    "#df_bmw3['color'].value_counts(normalize=True)\n",
    "df_bmw3['color'].fillna(df_bmw3['color'].mode()[0], inplace=True)"
   ]
  },
  {
   "cell_type": "code",
   "execution_count": 15,
   "metadata": {},
   "outputs": [],
   "source": [
    "df_bmw4 = df_bmw3.copy()"
   ]
  },
  {
   "cell_type": "markdown",
   "metadata": {},
   "source": [
    "###Variable **tipo_coche**\n",
    "Reemplazamos los nulos con _sin tipo_"
   ]
  },
  {
   "cell_type": "code",
   "execution_count": 16,
   "metadata": {},
   "outputs": [
    {
     "name": "stderr",
     "output_type": "stream",
     "text": [
      "C:\\Users\\rafas\\AppData\\Local\\Temp\\ipykernel_15088\\3349981566.py:1: FutureWarning: A value is trying to be set on a copy of a DataFrame or Series through chained assignment using an inplace method.\n",
      "The behavior will change in pandas 3.0. This inplace method will never work because the intermediate object on which we are setting values always behaves as a copy.\n",
      "\n",
      "For example, when doing 'df[col].method(value, inplace=True)', try using 'df.method({col: value}, inplace=True)' or df[col] = df[col].method(value) instead, to perform the operation inplace on the original object.\n",
      "\n",
      "\n",
      "  df_bmw4['tipo_coche'].fillna('sin tipo', inplace=True)\n"
     ]
    }
   ],
   "source": [
    "df_bmw4['tipo_coche'].fillna('sin tipo', inplace=True)"
   ]
  },
  {
   "cell_type": "markdown",
   "metadata": {},
   "source": [
    "###Variable **aire_acondicionado**"
   ]
  },
  {
   "cell_type": "code",
   "execution_count": 17,
   "metadata": {},
   "outputs": [
    {
     "data": {
      "text/plain": [
       "array([True, False, nan], dtype=object)"
      ]
     },
     "execution_count": 17,
     "metadata": {},
     "output_type": "execute_result"
    }
   ],
   "source": [
    "df_bmw4['aire_acondicionado'].unique() #Evaluamos luego"
   ]
  },
  {
   "cell_type": "markdown",
   "metadata": {},
   "source": [
    "###Variable **asientos_traseros_plegables**"
   ]
  },
  {
   "cell_type": "code",
   "execution_count": 18,
   "metadata": {},
   "outputs": [],
   "source": [
    "#Eliminamos la columna ya que tienes mas del 75% nulos\n",
    "del(df_bmw4['asientos_traseros_plegables'])"
   ]
  },
  {
   "cell_type": "markdown",
   "metadata": {},
   "source": [
    "###Variable **bluetooth**"
   ]
  },
  {
   "cell_type": "code",
   "execution_count": 19,
   "metadata": {},
   "outputs": [
    {
     "data": {
      "text/plain": [
       "array([nan, True, False], dtype=object)"
      ]
     },
     "execution_count": 19,
     "metadata": {},
     "output_type": "execute_result"
    }
   ],
   "source": [
    "df_bmw4['bluetooth'].unique() #Evaluamos luego"
   ]
  },
  {
   "cell_type": "markdown",
   "metadata": {},
   "source": [
    "###Variable **alerta_lim_velocidad**"
   ]
  },
  {
   "cell_type": "code",
   "execution_count": 20,
   "metadata": {},
   "outputs": [
    {
     "data": {
      "text/plain": [
       "array([nan, True, False], dtype=object)"
      ]
     },
     "execution_count": 20,
     "metadata": {},
     "output_type": "execute_result"
    }
   ],
   "source": [
    "df_bmw4['alerta_lim_velocidad'].unique() #Evaluamos luego"
   ]
  },
  {
   "cell_type": "markdown",
   "metadata": {},
   "source": [
    "## Hacemos una copia y cambiamos el formato de fechas."
   ]
  },
  {
   "cell_type": "code",
   "execution_count": 26,
   "metadata": {},
   "outputs": [],
   "source": [
    "df_bmw5 = df_bmw4.copy()"
   ]
  },
  {
   "cell_type": "code",
   "execution_count": 27,
   "metadata": {},
   "outputs": [],
   "source": [
    "df_bmw5['fecha_registro']=pd.to_datetime(df_bmw5['fecha_registro'])\n",
    "df_bmw5['fecha_venta']=pd.to_datetime(df_bmw5['fecha_venta'])"
   ]
  },
  {
   "cell_type": "markdown",
   "metadata": {},
   "source": [
    "## Creamos una nueva columna \"Antiguedad\" en años."
   ]
  },
  {
   "cell_type": "code",
   "execution_count": 30,
   "metadata": {},
   "outputs": [],
   "source": [
    "df_bmw5[\"antiguedad\"]= round((df_bmw5[\"fecha_venta\"]-df_bmw5[\"fecha_registro\"])/ np.timedelta64(1,'m'))/(1440*365)"
   ]
  },
  {
   "cell_type": "code",
   "execution_count": 31,
   "metadata": {},
   "outputs": [
    {
     "data": {
      "text/plain": [
       "0       5.920548\n",
       "1            NaN\n",
       "2       5.841096\n",
       "3            NaN\n",
       "4            NaN\n",
       "          ...   \n",
       "4838         NaN\n",
       "4839    3.169863\n",
       "4840    2.920548\n",
       "4841    2.419178\n",
       "4842         NaN\n",
       "Name: antiguedad, Length: 4817, dtype: float64"
      ]
     },
     "execution_count": 31,
     "metadata": {},
     "output_type": "execute_result"
    }
   ],
   "source": [
    "df_bmw5[\"antiguedad\"]"
   ]
  },
  {
   "cell_type": "markdown",
   "metadata": {},
   "source": []
  },
  {
   "cell_type": "markdown",
   "metadata": {},
   "source": [
    "## Completamos los nulos con la moda"
   ]
  },
  {
   "cell_type": "code",
   "execution_count": 32,
   "metadata": {},
   "outputs": [],
   "source": [
    "df_bmw5[\"antiguedad\"].fillna(df_bmw5[\"antiguedad\"].mode()[0], inplace=True)"
   ]
  },
  {
   "cell_type": "markdown",
   "metadata": {},
   "source": [
    "## Observamos nuestra nueva variable mediante un histrograma y nos damos cuenta que contiene valores negativos, lo cual no es posible. \n"
   ]
  },
  {
   "cell_type": "code",
   "execution_count": 33,
   "metadata": {},
   "outputs": [
    {
     "data": {
      "text/plain": [
       "array([[<Axes: title={'center': 'antiguedad'}>]], dtype=object)"
      ]
     },
     "execution_count": 33,
     "metadata": {},
     "output_type": "execute_result"
    },
    {
     "data": {
      "image/png": "[encoded data removed]",
      "text/plain": [
       "<Figure size 640x480 with 1 Axes>"
      ]
     },
     "metadata": {},
     "output_type": "display_data"
    }
   ],
   "source": [
    "df_bmw5.hist('antiguedad')"
   ]
  },
  {
   "cell_type": "code",
   "execution_count": 34,
   "metadata": {},
   "outputs": [],
   "source": [
    "#df_bmw5[df_bmw5['antiguedad']<0]\n",
    "#Elimino valores menors a 0\n",
    "df_bmw5.drop(df_bmw5[df_bmw5['antiguedad']<0].index, inplace=True)"
   ]
  }
 ],
 "metadata": {
  "kernelspec": {
   "display_name": "Python 3",
   "language": "python",
   "name": "python3"
  },
  "language_info": {
   "codemirror_mode": {
    "name": "ipython",
    "version": 3
   },
   "file_extension": ".py",
   "mimetype": "text/x-python",
   "name": "python",
   "nbconvert_exporter": "python",
   "pygments_lexer": "ipython3",
   "version": "3.12.3"
  }
 },
 "nbformat": 4,
 "nbformat_minor": 2
}
